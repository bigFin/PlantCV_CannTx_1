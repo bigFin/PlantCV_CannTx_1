{
 "cells": [
  {
   "cell_type": "markdown",
   "metadata": {
    "collapsed": true
   },
   "source": [
    "# Table of Contents "
   ]
  },
  {
   "cell_type": "markdown",
   "metadata": {},
   "source": [
    "### Tutorials \n",
    "- [VIS Tutorial](vis_tutorial.ipynb)\n",
    "\n",
    "- [RGB placeholder](rgb2gray.ipynb)\n",
    "\n",
    "- [NIR Pipeline]()\n",
    "\n",
    "- [PSII Pipeline]()\n",
    "\n",
    "- [VIS/NIR Pipeline]()\n",
    "\n",
    "- [Multi-Plant Pipeline]()\n",
    "\n",
    "- [Color Correction Pipeline]() \n",
    "\n",
    "- [Pipeline Parallelization]()\n"
   ]
  },
  {
   "cell_type": "code",
   "execution_count": null,
   "metadata": {},
   "outputs": [],
   "source": [
    ""
   ]
  }
 ],
 "metadata": {
  "kernelspec": {
   "display_name": "Python 2",
   "language": "python",
   "name": "python2"
  },
  "language_info": {
   "codemirror_mode": {
    "name": "ipython",
    "version": 2.0
   },
   "file_extension": ".py",
   "mimetype": "text/x-python",
   "name": "python",
   "nbconvert_exporter": "python",
   "pygments_lexer": "ipython2",
   "version": "2.7.6"
  }
 },
 "nbformat": 4,
 "nbformat_minor": 0
}