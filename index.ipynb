{
 "cells": [
  {
   "cell_type": "markdown",
   "metadata": {},
   "source": [
    "# Welcome to the Interactive Documentation for PlantCV\n",
    "\n",
    "The [PlantCV project](http://plantcv.danforthcenter.org/) is an open-source imaging processing package for plant phenotyping. The Jupyter notebooks contained here are the interactive version of some of the standard [PlantCV documentation](http://plantcv.readthedocs.io/en/latest/). The Jupyter notebooks can be used directly in an executable environment provided by [Binder](https://mybinder.org/), or they can be cloned and run locally.\n",
    "\n",
    "## Table of Contents\n",
    "\n",
    "### Tutorials\n",
    "\n",
    "* [VIS Pipeline](notebooks/vis_tutorial.ipynb)\n",
    "* [NIR Pipeline](notebooks/nir_tutorial.ipynb)\n",
    "* [PSII Pipeline](notebooks/psII_tutorial.ipynb)\n",
    "* [VIS/NIR Pipeline](notebooks/vis_nir_tutorial.ipynb)\n",
    "* [Multi-Plant Pipeline](notebooks/multi_plant_tutorial.ipynb)\n",
    "* [Color Correction Pipeline](notebooks/color_correct_tutorial.ipynb) \n",
    "\n"
   ]
  }
 ],
 "metadata": {
  "kernelspec": {
   "display_name": "Python 2",
   "language": "python",
   "name": "python2"
  },
  "language_info": {
   "codemirror_mode": {
    "name": "ipython",
    "version": 2.0
   },
   "file_extension": ".py",
   "mimetype": "text/x-python",
   "name": "python",
   "nbconvert_exporter": "python",
   "pygments_lexer": "ipython2",
   "version": "2.7.13"
  }
 },
 "nbformat": 4,
 "nbformat_minor": 0
}