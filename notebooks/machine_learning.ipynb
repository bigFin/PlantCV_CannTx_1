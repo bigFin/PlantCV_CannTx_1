{
 "cells": [
  {
   "cell_type": "markdown",
   "metadata": {
    "collapsed": true
   },
   "source": [
    "# Machine Learning Tutorial \n",
    "\n",
    "The naive Bayes multiclass approach is an extension of the naive Bayes approach. It can be trained to output binary images given an input color image. Unlike the naive Bayes method, the naive Bayes multiclass approach can be trained to classify two or more classes, defined by the user. Additionally, the naive Bayes multiclass method is trained using colors sparsely sampled from images rather than the need to label all pixels in a given image.\n",
    "\n",
    "To train the classifier, we need to build a table of red, green, and blue color values for pixels sampled evenly from each class. The idea here is to collect a relevant sample of pixel color data for each class. The size of the sample needed to build robust probability density functions for each class will depend on a number of factors, including the variability in class colors and imaging quality/reproducibility. To collect pixel color data we currently use the Pixel Inspection Tool in [ImageJ](https://imagej.nih.gov/ij/). Each column in the tab-delimited table is a feature class (in this example, plant, pustule, chlorosis, or background)\n",
    "and each cell is a comma-separated red, green, and blue triplet for a pixel.\n",
    "\n",
    "\n",
    "\n"
   ]
  },
  {
   "cell_type": "markdown",
   "metadata": {},
   "source": [
    "Once a satisfactory sample of pixels is collected, save the table as a tab-delimited text file. Use `plantcv-train.py` to use the pixel samples to output probability density functions (PDFs)\n",
    "for each class."
   ]
  },
  {
   "cell_type": "markdown",
   "metadata": {},
   "source": [
    "plantcv-train.py naive_bayes_multiclass --file pixel_samples.txt --outfile naive_bayes_pdfs.txt --plots"
   ]
  },
  {
   "cell_type": "markdown",
   "metadata": {},
   "source": [
    "The output file from `plantcv-train.py` will contain one row for each color channel (hue, saturation, and value) for\n",
    "each class. The first and second column are the class and channel label, respectively. The\n",
    "remaining 256 columns contain the p-value from the PDFs for each intensity value observable in an 8-bit image (0-255).\n",
    "\n",
    "Once we have the `plantcv-train.py` output file, we can classify pixels in a color image in PlantCV."
   ]
  },
  {
   "cell_type": "code",
   "execution_count": null,
   "metadata": {},
   "outputs": [],
   "source": [
    "import cv2\n",
    "from plantcv import plantcv as pcv"
   ]
  },
  {
   "cell_type": "code",
   "execution_count": null,
   "metadata": {},
   "outputs": [],
   "source": [
    "class options:\n",
    "    def __init__(self):\n",
    "        self.image = \"img/tutorial_images/machine_learning/color_image.jpg\"\n",
    "        self.debug = \"plot\"\n",
    "        self.writeimg= False \n",
    "        self.outdir = \".\"\n",
    "# Get options\n",
    "args = options()\n",
    "\n",
    "# Set debug to the global parameter \n",
    "pcv.params.debug = args.debug"
   ]
  },
  {
   "cell_type": "code",
   "execution_count": null,
   "metadata": {},
   "outputs": [],
   "source": [
    "# Read image (sometimes you need to run this line twice to see the image) \n",
    "img, path, filename = pcv.readimage(args.image)"
   ]
  },
  {
   "cell_type": "code",
   "execution_count": null,
   "metadata": {},
   "outputs": [],
   "source": [
    "# Use the output file from `plantcv-train.py` to run the multiclass \n",
    "# naive bayes classification on the image. The function below will \n",
    "# print out 4 masks (plant, pustule, chlorosis, background)\n",
    "\n",
    "# Inputs: \n",
    "#   rgb_img - RGB image data \n",
    "#   pdf_file - Output file containing PDFs from `plantcv-train.py`\n",
    "mask = pcv.naive_bayes_classifier(img, pdf_file=\"img/tutorial_images/machine_learning/machine_learning.txt\")"
   ]
  },
  {
   "cell_type": "code",
   "execution_count": null,
   "metadata": {},
   "outputs": [],
   "source": [
    "# We can apply each mask to the original image to more accurately \n",
    "# see what got masked\n",
    "\n",
    "# Inputs:\n",
    "#   rgb_img - RGB image data \n",
    "#   mask - Binary mask image data \n",
    "#   mask_color - 'white' or 'black' \n",
    "plant_img = pcv.apply_mask(mask=(mask['plant']), rgb_img=img, mask_color='black')\n",
    "pustule_img = pcv.apply_mask(mask=(mask['pustule']), rgb_img=img, mask_color='black')\n",
    "chlorosis_img = pcv.apply_mask(mask=(mask['chlorosis']), rgb_img=img, mask_color='black')\n",
    "background_img = pcv.apply_mask(mask=(mask['background']), rgb_img=img, mask_color='black')"
   ]
  },
  {
   "cell_type": "code",
   "execution_count": null,
   "metadata": {},
   "outputs": [],
   "source": [
    "# Write image and mask with the same name to the path \n",
    "# specified (creates two folders within the path if they do not exist).\n",
    "\n",
    "# Inputs: \n",
    "#   img - RGB or grayscale image data, original image \n",
    "#   mask - Binary mask image created \n",
    "#   filename - Image filename to get saved as\n",
    "#   outdir - Output directory (default: None)\n",
    "#   mask_only - Defaults to False, if True then only outputs mask \n",
    "\n",
    "plant_maskpath, plant_analysis_images = pcv.output_mask(img, mask['plant'], 'plant.png', mask_only=True)\n",
    "pust_maskpath, pust_analysis_images = pcv.output_mask(img, mask['pustule'], 'pustule.png', mask_only=True)\n",
    "chlor_maskpath, chlor_analysis_images = pcv.output_mask(img, mask['chlorosis'], 'chlorosis.png', mask_only=True)\n",
    "bkgrd_maskpath, bkgrd_analysis_images = pcv.output_mask(img, mask['background'], 'background.png', mask_only=True)"
   ]
  },
  {
   "cell_type": "code",
   "execution_count": null,
   "metadata": {},
   "outputs": [],
   "source": [
    "# To see all of these masks together we can plot them with plant set to green,\n",
    "# chlorosis set to blue, and pustule set to red.\n",
    "\n",
    "classified_img = cv2.merge([mask['chlorosis'], mask['plant'], mask['pustule']])\n",
    "pcv.plot_image(classified_img)"
   ]
  }
 ],
 "metadata": {
  "kernelspec": {
   "display_name": "Python 2",
   "language": "python",
   "name": "python2"
  },
  "language_info": {
   "codemirror_mode": {
    "name": "ipython",
    "version": 2.0
   },
   "file_extension": ".py",
   "mimetype": "text/x-python",
   "name": "python",
   "nbconvert_exporter": "python",
   "pygments_lexer": "ipython2",
   "version": "2.7.6"
  }
 },
 "nbformat": 4,
 "nbformat_minor": 0
}