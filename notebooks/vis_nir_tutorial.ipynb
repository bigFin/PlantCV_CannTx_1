{
 "cells": [
  {
   "cell_type": "code",
   "execution_count": null,
   "metadata": {
    "collapsed": true
   },
   "outputs": [],
   "source": [
    "import sys, traceback\n",
    "import cv2\n",
    "import numpy as np\n",
    "import argparse\n",
    "import string\n",
    "from plantcv import plantcv as pcv"
   ]
  },
  {
   "cell_type": "code",
   "execution_count": null,
   "metadata": {},
   "outputs": [],
   "source": [
    "class options:\n",
    "    def __init__(self):\n",
    "        self.image = \"img/tutorial_images/vis/original_image.jpg\"\n",
    "        self.debug = \"plot\"\n",
    "        self.writeimg= False \n",
    "        self.result = \"./vis_tutorial_results\"\n",
    "        self.outdir = \".\"\n",
    "# Get options\n",
    "args = options()\n",
    "\n",
    "# Set debug to the global parameter \n",
    "pcv.params.debug = args.debug"
   ]
  },
  {
   "cell_type": "code",
   "execution_count": null,
   "metadata": {},
   "outputs": [],
   "source": [
    "# Read image\n",
    "img, path, filename = pcv.readimage(args.image)"
   ]
  },
  {
   "cell_type": "code",
   "execution_count": null,
   "metadata": {},
   "outputs": [],
   "source": [
    "# Convert RGB to HSV and extract the saturation channel\n",
    "s = pcv.rgb2gray_hsv(img, 's')"
   ]
  },
  {
   "cell_type": "code",
   "execution_count": null,
   "metadata": {},
   "outputs": [],
   "source": [
    "# Threshold the Saturation image\n",
    "s_thresh = pcv.binary_threshold(s, 30, 255, 'light')"
   ]
  },
  {
   "cell_type": "code",
   "execution_count": null,
   "metadata": {},
   "outputs": [],
   "source": [
    "# Median Blur\n",
    "s_mblur = pcv.median_blur(s_thresh, 5)\n",
    "s_cnt = pcv.median_blur(s_thresh, 5)"
   ]
  },
  {
   "cell_type": "code",
   "execution_count": null,
   "metadata": {},
   "outputs": [],
   "source": [
    "# Convert RGB to LAB and extract the blue channel\n",
    "b = pcv.rgb2gray_lab(img, 'b')\n",
    "\n",
    "# Threshold the blue image\n",
    "b_thresh = pcv.threshold.binary(b, 129, 255, 'light')\n",
    "b_cnt = pcv.threshold.binary(b, 19, 255, 'light')"
   ]
  },
  {
   "cell_type": "code",
   "execution_count": null,
   "metadata": {},
   "outputs": [],
   "source": [
    "# Join the thresholded saturation and blue-yellow images\n",
    "bs = pcv.logical_and(s_mblur, b_cnt)"
   ]
  },
  {
   "cell_type": "code",
   "execution_count": null,
   "metadata": {},
   "outputs": [],
   "source": [
    "# Apply Mask (for VIS images, mask_color=white)\n",
    "masked = pcv.apply_mask(img, bs, 'white')"
   ]
  },
  {
   "cell_type": "code",
   "execution_count": null,
   "metadata": {},
   "outputs": [],
   "source": [
    "# Identify objects\n",
    "id_objects,obj_hierarchy = pcv.find_objects(masked, bs)"
   ]
  },
  {
   "cell_type": "code",
   "execution_count": null,
   "metadata": {},
   "outputs": [],
   "source": [
    "# Define ROI\n",
    "roi1, roi_hierarchy = pcv.roi.rectangle(600,450,-600,-700, img)"
   ]
  },
  {
   "cell_type": "code",
   "execution_count": null,
   "metadata": {},
   "outputs": [],
   "source": [
    "# Decide which objects to keep\n",
    "roi_objects, hierarchy, kept_mask, obj_area = pcv.roi_objects(img,'partial',roi1,roi_hierarchy,id_objects,obj_hierarchy)"
   ]
  },
  {
   "cell_type": "code",
   "execution_count": null,
   "metadata": {},
   "outputs": [],
   "source": [
    "# Object combine kept objects\n",
    "obj, mask = pcv.object_composition(img, roi_objects, hierarchy)"
   ]
  },
  {
   "cell_type": "code",
   "execution_count": null,
   "metadata": {},
   "outputs": [],
   "source": [
    "############### Analysis ################  \n",
    "  \n",
    "# Find shape properties, output shape image (optional)\n",
    "shape_header, shape_data, shape_img = pcv.analyze_object(img, obj, mask, args.outdir + '/' + filename)\n",
    "\n",
    "# Shape properties relative to user boundary line (optional)\n",
    "boundary_header, boundary_data, boundary_img1 = pcv.analyze_bound_horizontal(img, obj, mask, 1680, args.outdir + '/' + filename)\n",
    "\n",
    "# Determine color properties: Histograms, Color Slices and Pseudocolored Images, output color analyzed images (optional)\n",
    "color_header, color_data, color_img = pcv.analyze_color(img, kept_mask, 256, 'all', 'rgb', 'v', 'img', 300, args.outdir + '/' + filename)\n",
    "\n",
    "# Write shape and color data to results file\n",
    "result=open(args.result,\"a\")\n",
    "result.write('\\t'.join(map(str,shape_header)))\n",
    "result.write(\"\\n\")\n",
    "result.write('\\t'.join(map(str,shape_data)))\n",
    "result.write(\"\\n\")\n",
    "result.close()"
   ]
  }
 ],
 "metadata": {
  "kernelspec": {
   "display_name": "Python 2",
   "language": "python",
   "name": "python2"
  },
  "language_info": {
   "codemirror_mode": {
    "name": "ipython",
    "version": 2.0
   },
   "file_extension": ".py",
   "mimetype": "text/x-python",
   "name": "python",
   "nbconvert_exporter": "python",
   "pygments_lexer": "ipython2",
   "version": "2.7.6"
  }
 },
 "nbformat": 4,
 "nbformat_minor": 0
}