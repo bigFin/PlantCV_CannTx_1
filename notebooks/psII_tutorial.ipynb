{
 "cells": [
  {
   "cell_type": "markdown",
   "metadata": {
    "collapsed": true
   },
   "source": [
    "# PSII Tutorial "
   ]
  },
  {
   "cell_type": "code",
   "execution_count": null,
   "metadata": {},
   "outputs": [],
   "source": [
    "import sys, traceback\n",
    "import cv2\n",
    "import numpy as np\n",
    "import argparse\n",
    "import string\n",
    "from plantcv import plantcv as pcv"
   ]
  },
  {
   "cell_type": "code",
   "execution_count": null,
   "metadata": {},
   "outputs": [],
   "source": [
    "class options:\n",
    "    def __init__(self):\n",
    "        self.image = \"img/tutorial_images/psII/Fmax.jpg\"\n",
    "        self.debug = \"plot\"\n",
    "        self.writeimg= False \n",
    "        self.result = \"./psII_tutorial_results\"\n",
    "        self.outdir = \".\"\n",
    "# Get options\n",
    "args = options()\n",
    "\n",
    "# Set debug to the global parameter \n",
    "pcv.params.debug = args.debug"
   ]
  },
  {
   "cell_type": "code",
   "execution_count": null,
   "metadata": {},
   "outputs": [],
   "source": [
    "# Read image (converting fmax and track to 8 bit just to create a mask, use 16-bit for all the math)\n",
    "mask, path, filename = pcv.readimage(args.image)\n",
    "\n",
    "# Read in track region of interest \n",
    "track = cv2.imread(\"img/tutorial_images/psII/mask.jpg\")\n",
    "\n",
    "# Plot the track mask out manually since we aren't using a PlantCV function\n",
    "pcv.plot_image(track)\n",
    "\n",
    "# Make a copy of our image \n",
    "mask1 = mask"
   ]
  },
  {
   "cell_type": "markdown",
   "metadata": {},
   "source": [
    "We use a premade mask for the screw of the car that consistently give background signal, \n",
    "but this is not required. "
   ]
  },
  {
   "cell_type": "code",
   "execution_count": null,
   "metadata": {},
   "outputs": [],
   "source": [
    "# Mask pesky track autofluor\n",
    "\n",
    "# Inputs:\n",
    "#   rgb_img - RGB image data \n",
    "# channel - Split 'h' (hue), 's' (saturation), or 'v' (value) channel \n",
    "track1 = pcv.rgb2gray_hsv(track, 'v')\n",
    "\n",
    "# Inputs:\n",
    "#   gray_img - Grayscale image data \n",
    "#   threshold- Threshold value (between 0-255)\n",
    "#   max_value - Value to apply above threshold (255 = white) \n",
    "#   object_type - 'light' (default) or 'dark'. If the object is lighter than the background then standard threshold is done.\n",
    "#                 If the object is darker than the background then inverse thresholding is done. \n",
    "track_thresh = pcv.threshold.binary(track1, 0, 255, 'light')\n",
    "\n",
    "# Inputs:\n",
    "#   gray_img - Grayscale image data \n",
    "track_inv = pcv.invert(track_thresh)\n",
    "\n",
    "# Inputs: \n",
    "#   rgb_img - RGB image data \n",
    "#   mask - Binary mask image data \n",
    "#   mask_color - 'black' or 'white'\n",
    "track_masked = pcv.apply_mask(mask1, track_inv, 'black')"
   ]
  },
  {
   "cell_type": "code",
   "execution_count": null,
   "metadata": {},
   "outputs": [],
   "source": [
    "# Threshold the image\n",
    "fmax_thresh = pcv.threshold.binary(track_masked, 20, 255, 'light')"
   ]
  },
  {
   "cell_type": "code",
   "execution_count": null,
   "metadata": {},
   "outputs": [],
   "source": [
    "# Median Filter\n",
    "\n",
    "# Inputs:\n",
    "#   gray_img - Grayscale image data \n",
    "#   ksize - Kernel size. Integer or tuple; (ksize, ksize) box if integer is input, \n",
    "#           (n, m) size box if tuple is given.\n",
    "s_mblur = pcv.median_blur(fmax_thresh, 5)\n",
    "s_cnt = pcv.median_blur(fmax_thresh, 5)"
   ]
  },
  {
   "cell_type": "code",
   "execution_count": null,
   "metadata": {},
   "outputs": [],
   "source": [
    "# Fill small objects\n",
    "\n",
    "# Inputs:\n",
    "#   bin_img - Binary image data \n",
    "#   size - Minimum object area size in pixels (integer), smaller objects get filled in. \n",
    "s_fill = pcv.fill(s_mblur, 110)\n",
    "sfill_cnt = pcv.fill(s_mblur, 110)"
   ]
  },
  {
   "cell_type": "code",
   "execution_count": null,
   "metadata": {},
   "outputs": [],
   "source": [
    "# Identify objects\n",
    "\n",
    "# Inputs:\n",
    "#   img - RGB or grayscale image data for plotting\n",
    "#   mask - Binary mask used for detecting contours\n",
    "id_objects,obj_hierarchy = pcv.find_objects(mask, sfill_cnt)"
   ]
  },
  {
   "cell_type": "code",
   "execution_count": null,
   "metadata": {},
   "outputs": [],
   "source": [
    "# Define ROI\n",
    "\n",
    "# Inputs: \n",
    "#   x - The x-coordinate of the upper left corner of the rectangle \n",
    "#   y - The y-coordinate of the upper left corner of the rectangle \n",
    "#   h - The height of the rectangle \n",
    "#   w - The width of the rectangle \n",
    "#   img - RGB or grayscale image to plot the ROI on \n",
    "roi1, roi_hierarchy = pcv.roi.rectangle(x=100, y=100, h=200, w=200, img=mask)"
   ]
  },
  {
   "cell_type": "code",
   "execution_count": null,
   "metadata": {},
   "outputs": [],
   "source": [
    "# Decide which objects to keep\n",
    "\n",
    "# Inputs:\n",
    "#   img - RGB or grayscale image data to display kept objects on \n",
    "#   roi_type - 'cutto' or 'partial' => include objexts that are partially inside or overlapping with the ROI \n",
    "#   roi_contour - contour of ROI, output from pcv.roi.rectangle in this case\n",
    "#   object_contour - contour of objects, output from pcv.roi.rectangle in this case \n",
    "#   obj_hierarchy - heirarch of objects, output from pcv.find_objects function \n",
    "roi_objects, hierarchy3, kept_mask, obj_area = pcv.roi_objects(mask, 'partial', roi1, roi_hierarchy, id_objects, obj_hierarchy)"
   ]
  },
  {
   "cell_type": "code",
   "execution_count": null,
   "metadata": {},
   "outputs": [],
   "source": [
    "# Object combine kept objects\n",
    "\n",
    "# Use the object_composition function to outline the plant \n",
    "# Inputs:\n",
    "#   img - RGB or grayscale image data for plotting \n",
    "#   contours - Contour list \n",
    "#   hierarchy - Contour hierarchy array \n",
    "obj, masked = pcv.object_composition(mask, roi_objects, hierarchy3)"
   ]
  },
  {
   "cell_type": "markdown",
   "metadata": {},
   "source": [
    "Now we can analyze the plant objects for traits such as shape, or PSII signal. "
   ]
  },
  {
   "cell_type": "code",
   "execution_count": null,
   "metadata": {},
   "outputs": [],
   "source": [
    "################ Analysis ################  \n",
    "\n",
    "# Find shape properties, output shape image (optional)\n",
    "shape_header, shape_data, shape_img = pcv.analyze_object(mask, obj, masked, args.outdir + '/' + filename)\n",
    "\n",
    "# Fluorescence Measurement (read in 16-bit images)\n",
    "fdark = cv2.imread(\"img/tutorial_images/psII/Fdark.jpg\", -1)\n",
    "fmin = cv2.imread(\"img/tutorial_images/psII/Fmin.jpg\", -1)\n",
    "fmax = cv2.imread(\"img/tutorial_images/psII/Fmax.jpg\", -1)"
   ]
  },
  {
   "cell_type": "code",
   "execution_count": null,
   "metadata": {},
   "outputs": [],
   "source": [
    "# Extract Fv/Fm data of objects and produce pseudocolored images \n",
    "\n",
    "# Inputs:\n",
    "#   fdark - Grayscale image \n",
    "#   fmin - Grayscale image \n",
    "#   fmax - Grayscale image \n",
    "#   mask - Binary mask of selected contours \n",
    "#   filename - False (default) or image name. If defined, print image.\n",
    "#   bins - Number of grayscale bins (0-256 for 8-bit img, 0-65536 for 16-bit). Default bins = 256\n",
    "fvfm_header, fvfm_data, fvfm_images = pcv.fluor_fvfm(fdark,fmin,fmax,kept_mask, args.outdir+'/'+filename, 1000)"
   ]
  },
  {
   "cell_type": "code",
   "execution_count": null,
   "metadata": {},
   "outputs": [],
   "source": [
    "# Write shape and nir data to results file\n",
    "result=open(args.result,\"a\")\n",
    "result.write('\\t'.join(map(str,shape_header)))\n",
    "result.write(\"\\n\")\n",
    "result.write('\\t'.join(map(str,shape_data)))\n",
    "result.write(\"\\n\")\n",
    "for row in shape_img:  \n",
    "    result.write('\\t'.join(map(str,row)))\n",
    "    result.write(\"\\n\")\n",
    "result.write('\\t'.join(map(str,fvfm_header)))\n",
    "result.write(\"\\n\")\n",
    "result.write('\\t'.join(map(str,fvfm_data)))\n",
    "result.write(\"\\n\")\n",
    "result.close()"
   ]
  }
 ],
 "metadata": {
  "kernelspec": {
   "display_name": "Python 2",
   "language": "python",
   "name": "python2"
  },
  "language_info": {
   "codemirror_mode": {
    "name": "ipython",
    "version": 2.0
   },
   "file_extension": ".py",
   "mimetype": "text/x-python",
   "name": "python",
   "nbconvert_exporter": "python",
   "pygments_lexer": "ipython2",
   "version": "2.7.6"
  }
 },
 "nbformat": 4,
 "nbformat_minor": 0
}