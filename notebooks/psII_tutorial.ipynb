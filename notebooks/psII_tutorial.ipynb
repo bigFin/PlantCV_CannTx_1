{
 "cells": [
  {
   "cell_type": "code",
   "execution_count": null,
   "metadata": {
    "collapsed": true
   },
   "outputs": [],
   "source": [
    "import sys, traceback\n",
    "import cv2\n",
    "import numpy as np\n",
    "import argparse\n",
    "import string\n",
    "from plantcv import plantcv as pcv"
   ]
  },
  {
   "cell_type": "code",
   "execution_count": null,
   "outputs": [],
   "source": [
    ""
   ]
  },
  {
   "cell_type": "code",
   "execution_count": null,
   "metadata": {},
   "outputs": [],
   "source": [
    "# Set debug mode\n",
    "pcv.params.debug=args.debug \n",
    "# Set output directory\n",
    "pcv.params.debug_outdir=args.outdir \n",
    "\n",
    "# Read image (converting fmax and track to 8 bit just to create a mask, use 16-bit for all the math)\n",
    "mask, path, filename = pcv.readimage(args.fmax)\n",
    "# mask = cv2.imread(args.fmax)\n",
    "track = cv2.imread(args.track)\n",
    "\n",
    "mask1, mask2, mask3 = cv2.split(mask)"
   ]
  },
  {
   "cell_type": "code",
   "execution_count": null,
   "metadata": {},
   "outputs": [],
   "source": [
    "# Mask pesky track autofluor\n",
    "track1 = pcv.rgb2gray_hsv(track, 'v')\n",
    "track_thresh = pcv.threshold.binary(track1, 0, 255, 'light')\n",
    "track_inv = pcv.invert(track_thresh)\n",
    "track_masked = pcv.apply_mask(mask1, track_inv, 'black')"
   ]
  },
  {
   "cell_type": "code",
   "execution_count": null,
   "metadata": {},
   "outputs": [],
   "source": [
    "# Threshold the image\n",
    "fmax_thresh = pcv.threshold.binary(track_masked, 20, 255, 'light')"
   ]
  },
  {
   "cell_type": "code",
   "execution_count": null,
   "metadata": {},
   "outputs": [],
   "source": [
    "# Median Filter\n",
    "s_mblur = pcv.median_blur(fmax_thresh, 5)\n",
    "s_cnt = pcv.median_blur(fmax_thresh, 5)"
   ]
  },
  {
   "cell_type": "code",
   "execution_count": null,
   "metadata": {},
   "outputs": [],
   "source": [
    "# Fill small objects\n",
    "s_fill = pcv.fill(s_mblur, 110)\n",
    "sfill_cnt = pcv.fill(s_mblur, 110)"
   ]
  },
  {
   "cell_type": "code",
   "execution_count": null,
   "metadata": {},
   "outputs": [],
   "source": [
    "# Identify objects\n",
    "id_objects,obj_hierarchy = pcv.find_objects(mask, sfill_cnt)"
   ]
  },
  {
   "cell_type": "code",
   "execution_count": null,
   "metadata": {},
   "outputs": [],
   "source": [
    "# Define ROI\n",
    "roi1, roi_hierarchy = pcv.roi.rectangle(x=100, y=100, h=200, w=200, img=mask)"
   ]
  },
  {
   "cell_type": "code",
   "execution_count": null,
   "metadata": {},
   "outputs": [],
   "source": [
    "# Decide which objects to keep\n",
    "roi_objects, hierarchy3, kept_mask, obj_area = pcv.roi_objects(mask, 'partial', roi1, roi_hierarchy, id_objects, obj_hierarchy)"
   ]
  },
  {
   "cell_type": "code",
   "execution_count": null,
   "metadata": {},
   "outputs": [],
   "source": [
    "# Object combine kept objects\n",
    "obj, masked = pcv.object_composition(mask, roi_objects, hierarchy3)"
   ]
  },
  {
   "cell_type": "code",
   "execution_count": null,
   "metadata": {},
   "outputs": [],
   "source": [
    "################ Analysis ################  \n",
    "    \n",
    "outfile=False\n",
    "if args.writeimg==True:\n",
    "    outfile=args.outdir+\"/\"+filename\n",
    "\n",
    "# Find shape properties, output shape image (optional)\n",
    "shape_header, shape_data, shape_img = pcv.analyze_object(mask, obj, masked, args.outdir + '/' + filename)\n",
    "\n",
    "# Fluorescence Measurement (read in 16-bit images)\n",
    "fdark = cv2.imread(args.fdark, -1)\n",
    "fmin = cv2.imread(args.fmin, -1)\n",
    "fmax = cv2.imread(args.fmax, -1)\n",
    "\n",
    "fvfm_header, fvfm_data, fvfm_images = pcv.fluor_fvfm(fdark,fmin,fmax,kept_mask, args.outdir+'/'+filename, 1000)\n",
    "\n",
    "# Write shape and nir data to results file\n",
    "result=open(args.result,\"a\")\n",
    "result.write('\\t'.join(map(str,shape_header)))\n",
    "result.write(\"\\n\")\n",
    "result.write('\\t'.join(map(str,shape_data)))\n",
    "result.write(\"\\n\")\n",
    "for row in shape_img:  \n",
    "    result.write('\\t'.join(map(str,row)))\n",
    "    result.write(\"\\n\")\n",
    "result.write('\\t'.join(map(str,fvfm_header)))\n",
    "result.write(\"\\n\")\n",
    "result.write('\\t'.join(map(str,fvfm_data)))\n",
    "result.write(\"\\n\")\n",
    "result.close()"
   ]
  }
 ],
 "metadata": {
  "kernelspec": {
   "display_name": "Python 2",
   "language": "python",
   "name": "python2"
  },
  "language_info": {
   "codemirror_mode": {
    "name": "ipython",
    "version": 2.0
   },
   "file_extension": ".py",
   "mimetype": "text/x-python",
   "name": "python",
   "nbconvert_exporter": "python",
   "pygments_lexer": "ipython2",
   "version": "2.7.6"
  }
 },
 "nbformat": 4,
 "nbformat_minor": 0
}