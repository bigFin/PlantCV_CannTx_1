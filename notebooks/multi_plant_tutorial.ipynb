{
 "cells": [
  {
   "cell_type": "code",
   "execution_count": null,
   "metadata": {
    "collapsed": true
   },
   "outputs": [],
   "source": [
    "import sys, traceback\n",
    "import cv2\n",
    "import os\n",
    "import re\n",
    "import numpy as np\n",
    "import argparse\n",
    "import string\n",
    "from plantcv import plantcv as pcv"
   ]
  },
  {
   "cell_type": "code",
   "execution_count": null,
   "metadata": {},
   "outputs": [],
   "source": [
    "### Parse command-line arguments\n",
    "def options():\n",
    "    parser = argparse.ArgumentParser(description=\"Imaging processing with opencv\")\n",
    "    parser.add_argument(\"-i\", \"--image\", help=\"Input image file.\", required=True)\n",
    "    parser.add_argument(\"-o\", \"--outdir\", help=\"Output directory for image files.\", required=True)\n",
    "    parser.add_argument(\"-n\", \"--names\", help=\"path to txt file with names of genotypes to split images into\", required =False)\n",
    "    parser.add_argument(\"-D\", \"--debug\", help=\"Turn on debug, prints intermediate images.\", action=None)\n",
    "    args = parser.parse_args()\n",
    "    return args"
   ]
  },
  {
   "cell_type": "code",
   "execution_count": null,
   "metadata": {},
   "outputs": [],
   "source": [
    "# Get options\n",
    "args = options()\n",
    "\n",
    "# Read image\n",
    "img, path, filename = pcv.readimage(args.image)\n",
    "\n",
    "# Set debug mode\n",
    "params.debug=args.debug #set debug mode"
   ]
  },
  {
   "cell_type": "code",
   "execution_count": null,
   "metadata": {},
   "outputs": [],
   "source": [
    "# STEP 1: Check if this is a night image, for some of these dataset's images were captured\n",
    "# at night, even if nothing is visible. To make sure that images are not taken at\n",
    "# night we check that the image isn't mostly dark (0=black, 255=white).\n",
    "# if it is a night image it throws a fatal error and stops the pipeline.\n",
    "\n",
    "if np.average(img) < 50:\n",
    "    pcv.fatal_error(\"Night Image\")\n",
    "else:\n",
    "    pass"
   ]
  },
  {
   "cell_type": "code",
   "execution_count": null,
   "metadata": {},
   "outputs": [],
   "source": [
    "# STEP 2: Normalize the white color so you can later\n",
    "# compare color between images.\n",
    "# Inputs:\n",
    "#   img = image object, RGB colorspace\n",
    "#   roi = region for white reference, if none uses the whole image,\n",
    "#         otherwise (x position, y position, box width, box height)\n",
    "\n",
    "# white balance image based on white toughspot\n",
    "\n",
    "img1 = pcv.white_balance(img,roi=(400,800,200,200))"
   ]
  },
  {
   "cell_type": "code",
   "execution_count": null,
   "metadata": {},
   "outputs": [],
   "source": [
    "# STEP 3: Rotate the image\n",
    "\n",
    "rotate_img = pcv.rotate(img1, -1)"
   ]
  },
  {
   "cell_type": "code",
   "execution_count": null,
   "metadata": {},
   "outputs": [],
   "source": [
    "# STEP 4: Shift image. This step is important for clustering later on.\n",
    "# For this image it also allows you to push the green raspberry pi camera\n",
    "# out of the image. This step might not be necessary for all images.\n",
    "# The resulting image is the same size as the original.\n",
    "# Inputs:\n",
    "#   img    = image object\n",
    "#   number = integer, number of pixels to move image\n",
    "#   side   = direction to move from \"top\", \"bottom\", \"right\",\"left\"\n",
    "\n",
    "shift1 = pcv.shift_img(img1, 300, 'top')\n",
    "img1 = shift1"
   ]
  },
  {
   "cell_type": "code",
   "execution_count": null,
   "metadata": {},
   "outputs": [],
   "source": [
    "# STEP 5: Convert image from RGB color space to LAB color space\n",
    "# Keep only the green-magenta channel (grayscale)\n",
    "# Inputs:\n",
    "#    img     = image object, RGB color space\n",
    "#    channel = color subchannel ('l' = lightness, 'a' = green-magenta , 'b' = blue-yellow)\n",
    "\n",
    "a = pcv.rgb2gray_lab(img1, 'a')"
   ]
  },
  {
   "cell_type": "code",
   "execution_count": null,
   "metadata": {},
   "outputs": [],
   "source": [
    "# STEP 6: Set a binary threshold on the saturation channel image\n",
    "# Inputs:\n",
    "#    img         = img object, grayscale\n",
    "#    threshold   = threshold value (0-255)\n",
    "#    maxValue    = value to apply above threshold (usually 255 = white)\n",
    "#    object_type = light or dark\n",
    "#       - If object is light then standard thresholding is done\n",
    "#       - If object is dark then inverse thresholding is done\n",
    "\n",
    "img_binary = pcv.threshold.binary(a, 120, 255, 'dark')\n",
    "#                                     ^\n",
    "#                                     |\n",
    "#                                 adjust this value"
   ]
  },
  {
   "cell_type": "code",
   "execution_count": null,
   "metadata": {},
   "outputs": [],
   "source": [
    "# STEP 7: Fill in small objects (speckles)\n",
    "# Inputs:\n",
    "#    img  = image object, grayscale. img will be returned after filling\n",
    "#    size = minimum object area size in pixels (integer)\n",
    "\n",
    "fill_image = pcv.fill(img_binary, 100)\n",
    "#                                  ^\n",
    "#                                  |\n",
    "#                         adjust this value"
   ]
  },
  {
   "cell_type": "code",
   "execution_count": null,
   "metadata": {},
   "outputs": [],
   "source": [
    "# STEP 8: Dilate so that you don't lose leaves (just in case)\n",
    "# Inputs:\n",
    "#    img    = input image\n",
    "#    kernel = integer\n",
    "#    i      = iterations, i.e. number of consecutive filtering passes\n",
    "\n",
    "dilated = pcv.dilate(fill_image, 1, 1)"
   ]
  },
  {
   "cell_type": "code",
   "execution_count": null,
   "metadata": {},
   "outputs": [],
   "source": [
    "# STEP 9: Find objects (contours: black-white boundaries)\n",
    "# Inputs:\n",
    "#    img  = image that the objects will be overlayed\n",
    "#    mask = what is used for object detection\n",
    "\n",
    "id_objects, obj_hierarchy = pcv.find_objects(img1, dilated)"
   ]
  },
  {
   "cell_type": "code",
   "execution_count": null,
   "metadata": {},
   "outputs": [],
   "source": [
    "# STEP 10: Define region of interest (ROI)\n",
    "# Inputs:\n",
    "#    x_adj     = adjust center along x axis\n",
    "#    y_adj     = adjust center along y axis\n",
    "#    w_adj     = adjust width\n",
    "#    h_adj     = adjust height\n",
    "#    img       = img to overlay roi\n",
    "# roi_contour, roi_hierarchy = pcv.roi.rectangle(10, 500, -10, -100, img1)\n",
    "#                                                ^                ^\n",
    "#                                                |________________|\n",
    "#                                            adjust these four values\n",
    "\n",
    "roi_contour, roi_hierarchy = pcv.roi.rectangle(10, 500, -10, -100, img1)"
   ]
  },
  {
   "cell_type": "code",
   "execution_count": null,
   "metadata": {},
   "outputs": [],
   "source": [
    "# STEP 11: Keep objects that overlap with the ROI\n",
    "# Inputs:\n",
    "#    img            = img to display kept objects\n",
    "#    roi_type       = 'cutto' or 'partial' (for partially inside)\n",
    "#    roi_contour    = contour of roi, output from \"View and Ajust ROI\" function\n",
    "#    roi_hierarchy  = contour of roi, output from \"View and Ajust ROI\" function\n",
    "#    object_contour = contours of objects, output from \"Identifying Objects\" fuction\n",
    "#    obj_hierarchy  = hierarchy of objects, output from \"Identifying Objects\" fuction\n",
    "\n",
    "roi_objects, roi_obj_hierarchy, kept_mask, obj_area = pcv.roi_objects(img1, 'partial', roi_contour, roi_hierarchy,\n",
    "                                                                      id_objects, obj_hierarchy)"
   ]
  },
  {
   "cell_type": "code",
   "execution_count": null,
   "metadata": {},
   "outputs": [],
   "source": [
    "# STEP 12: This function take a image with multiple contours and\n",
    "# clusters them based on user input of rows and columns\n",
    "\n",
    "# Inputs:\n",
    "#    img               = An RGB image\n",
    "#    roi_objects       = object contours in an image that are needed to be clustered.\n",
    "#    roi_obj_hierarchy = object hierarchy\n",
    "#    nrow              = number of rows to cluster (this should be the approximate  number of desired rows in the entire image even if there isn't a literal row of plants)\n",
    "#    ncol              = number of columns to cluster (this should be the approximate number of desired columns in the entire image even if there isn't a literal row of plants)\n",
    "\n",
    "clusters_i, contours, hierarchies = pcv.cluster_contours(img1, roi_objects, roi_obj_hierarchy, 4, 6)"
   ]
  },
  {
   "cell_type": "code",
   "execution_count": null,
   "outputs": [],
   "source": [
    ""
   ]
  }
 ],
 "metadata": {
  "kernelspec": {
   "display_name": "Python 2",
   "language": "python",
   "name": "python2"
  },
  "language_info": {
   "codemirror_mode": {
    "name": "ipython",
    "version": 2.0
   },
   "file_extension": ".py",
   "mimetype": "text/x-python",
   "name": "python",
   "nbconvert_exporter": "python",
   "pygments_lexer": "ipython2",
   "version": "2.7.6"
  }
 },
 "nbformat": 4,
 "nbformat_minor": 0
}