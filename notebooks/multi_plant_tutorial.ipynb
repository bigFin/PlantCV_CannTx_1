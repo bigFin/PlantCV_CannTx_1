{
 "cells": [
  {
   "cell_type": "markdown",
   "metadata": {
    "collapsed": true
   },
   "source": [
    "# Multi-Plant Tutorial "
   ]
  },
  {
   "cell_type": "code",
   "execution_count": null,
   "metadata": {},
   "outputs": [],
   "source": [
    "import sys, traceback\n",
    "import cv2\n",
    "import os\n",
    "import re\n",
    "import numpy as np\n",
    "import argparse\n",
    "import string\n",
    "from plantcv import plantcv as pcv"
   ]
  },
  {
   "cell_type": "code",
   "execution_count": null,
   "metadata": {},
   "outputs": [],
   "source": [
    "class options:\n",
    "    def __init__(self):\n",
    "        self.image = \"img/tutorial_images/multi_plant/original_image.jpg\"\n",
    "        self.debug = \"plot\"\n",
    "        self.writeimg= False \n",
    "        self.result = \"./multi_plant_tutorial_results\"\n",
    "        self.outdir = \".\"\n",
    "# Get options\n",
    "args = options()\n",
    "\n",
    "# Set debug to the global parameter \n",
    "pcv.params.debug = args.debug"
   ]
  },
  {
   "cell_type": "code",
   "execution_count": null,
   "metadata": {},
   "outputs": [],
   "source": [
    "# Read image\n",
    "img, path, filename = pcv.readimage(args.image)"
   ]
  },
  {
   "cell_type": "code",
   "execution_count": null,
   "metadata": {},
   "outputs": [],
   "source": [
    "# STEP 1: Check if this is a night image, for some of these dataset's images were captured\n",
    "# at night, even if nothing is visible. To make sure that images are not taken at\n",
    "# night we check that the image isn't mostly dark (0=black, 255=white).\n",
    "# if it is a night image it throws a fatal error and stops the pipeline.\n",
    "\n",
    "if np.average(img) < 50:\n",
    "    pcv.fatal_error(\"Night Image\")\n",
    "else:\n",
    "    pass"
   ]
  },
  {
   "cell_type": "code",
   "execution_count": null,
   "metadata": {},
   "outputs": [],
   "source": [
    "# STEP 2: Normalize the white color so you can later\n",
    "# compare color between images.\n",
    "# Inputs:\n",
    "#   img = image object, RGB color space\n",
    "#   roi = region for white reference, if none uses the whole image,\n",
    "#         otherwise (x position, y position, box width, box height)\n",
    "\n",
    "# white balance image based on white toughspot\n",
    "\n",
    "img1 = pcv.white_balance(img,roi=(52,100,20,20))"
   ]
  },
  {
   "cell_type": "code",
   "execution_count": null,
   "metadata": {},
   "outputs": [],
   "source": [
    "# STEP 3: Rotate the image slightly so the plants line up with \n",
    "# the grid that we'll add in a later step\n",
    "# Inputs:\n",
    "#   img = image object, RGB color space\n",
    "#   rotation_deg = Rotation angle in degrees (integer), can be negative, positive values \n",
    "#                  will move counter-clockwise \n",
    "#   crop = If True then image will be cropped to orginal image dimensions, if False\n",
    "#          the image size will be adjusted to accommodate new image dimensions \n",
    "\n",
    "rotate_img = pcv.rotate(img1, -1, False)"
   ]
  },
  {
   "cell_type": "code",
   "execution_count": null,
   "metadata": {},
   "outputs": [],
   "source": [
    "# STEP 4: Shift image. This step is important for clustering later on.\n",
    "# For this image it also allows you to push the green raspberry pi camera\n",
    "# out of the image. This step might not be necessary for all images.\n",
    "# The resulting image is the same size as the original.\n",
    "# Inputs:\n",
    "#   img    = image object\n",
    "#   number = integer, number of pixels to move image\n",
    "#   side   = direction to move from \"top\", \"bottom\", \"right\",\"left\"\n",
    "\n",
    "shift1 = pcv.shift_img(img1, 300, 'top')\n",
    "img1 = shift1"
   ]
  },
  {
   "cell_type": "code",
   "execution_count": null,
   "metadata": {},
   "outputs": [],
   "source": [
    "# STEP 5: Convert image from RGB color space to LAB color space\n",
    "# Keep only the green-magenta channel (grayscale)\n",
    "# Inputs:\n",
    "#    img     = image object, RGB color space\n",
    "#    channel = color subchannel ('l' = lightness, 'a' = green-magenta , 'b' = blue-yellow)\n",
    "\n",
    "a = pcv.rgb2gray_lab(img1, 'a')"
   ]
  },
  {
   "cell_type": "code",
   "execution_count": null,
   "metadata": {},
   "outputs": [],
   "source": [
    "# STEP 6: Set a binary threshold on the saturation channel image\n",
    "# Inputs:\n",
    "#    img         = img object, grayscale\n",
    "#    threshold   = threshold value (0-255)\n",
    "#    maxValue    = value to apply above threshold (usually 255 = white)\n",
    "#    object_type = light or dark\n",
    "#       - If object is light then standard thresholding is done\n",
    "#       - If object is dark then inverse thresholding is done\n",
    "\n",
    "img_binary = pcv.threshold.binary(a, 120, 255, 'dark')\n",
    "#                                     ^\n",
    "#                                     |\n",
    "#                                 adjust this value"
   ]
  },
  {
   "cell_type": "code",
   "execution_count": null,
   "metadata": {},
   "outputs": [],
   "source": [
    "# STEP 7: Fill in small objects (speckles)\n",
    "# Inputs:\n",
    "#    img  = image object, grayscale. img will be returned after filling\n",
    "#    size = minimum object area size in pixels (integer)\n",
    "\n",
    "fill_image = pcv.fill(img_binary, 100)\n",
    "#                                  ^\n",
    "#                                  |\n",
    "#                         adjust this value"
   ]
  },
  {
   "cell_type": "code",
   "execution_count": null,
   "metadata": {},
   "outputs": [],
   "source": [
    "# STEP 8: Dilate so that you don't lose leaves (just in case)\n",
    "# Inputs:\n",
    "#    img    = input image\n",
    "#    kernel = integer\n",
    "#    i      = iterations, i.e. number of consecutive filtering passes\n",
    "\n",
    "dilated = pcv.dilate(fill_image, 1, 1)"
   ]
  },
  {
   "cell_type": "code",
   "execution_count": null,
   "metadata": {},
   "outputs": [],
   "source": [
    "# STEP 9: Find objects (contours: black-white boundaries)\n",
    "# Inputs:\n",
    "#    img  = image that the objects will be overlayed\n",
    "#    mask = what is used for object detection\n",
    "\n",
    "id_objects, obj_hierarchy = pcv.find_objects(img1, dilated)"
   ]
  },
  {
   "cell_type": "code",
   "execution_count": null,
   "metadata": {},
   "outputs": [],
   "source": [
    "# STEP 10: Define region of interest (ROI)\n",
    "# Inputs:\n",
    "#    x_adj     = adjust center along x axis\n",
    "#    y_adj     = adjust center along y axis\n",
    "#    w_adj     = adjust width\n",
    "#    h_adj     = adjust height\n",
    "#    img       = img to overlay roi\n",
    "# roi_contour, roi_hierarchy = pcv.roi.rectangle(10, 500, -10, -100, img1)\n",
    "#                                                ^                ^\n",
    "#                                                |________________|\n",
    "#                                            adjust these four values\n",
    "\n",
    "roi_contour, roi_hierarchy = pcv.roi.rectangle(10, 500, -10, -100, img1)"
   ]
  },
  {
   "cell_type": "code",
   "execution_count": null,
   "metadata": {},
   "outputs": [],
   "source": [
    "# STEP 11: Keep objects that overlap with the ROI\n",
    "# Inputs:\n",
    "#    img            = img to display kept objects\n",
    "#    roi_type       = 'cutto' or 'partial' (for partially inside)\n",
    "#    roi_contour    = contour of roi, output from \"View and Ajust ROI\" function\n",
    "#    roi_hierarchy  = contour of roi, output from \"View and Ajust ROI\" function\n",
    "#    object_contour = contours of objects, output from \"Identifying Objects\" fuction\n",
    "#    obj_hierarchy  = hierarchy of objects, output from \"Identifying Objects\" fuction\n",
    "\n",
    "roi_objects, roi_obj_hierarchy, kept_mask, obj_area = pcv.roi_objects(img1, 'partial', roi_contour, roi_hierarchy,\n",
    "                                                                      id_objects, obj_hierarchy)"
   ]
  },
  {
   "cell_type": "code",
   "execution_count": null,
   "metadata": {},
   "outputs": [],
   "source": [
    "# STEP 12: This function take a image with multiple contours and\n",
    "# clusters them based on user input of rows and columns\n",
    "\n",
    "# Inputs:\n",
    "#    img               = An RGB image\n",
    "#    roi_objects       = object contours in an image that are needed to be clustered.\n",
    "#    roi_obj_hierarchy = object hierarchy\n",
    "#    nrow              = number of rows to cluster (this should be the approximate  number of desired rows in the entire image even if there isn't a literal row of plants)\n",
    "#    ncol              = number of columns to cluster (this should be the approximate number of desired columns in the entire image even if there isn't a literal row of plants)\n",
    "\n",
    "clusters_i, contours, hierarchies = pcv.cluster_contours(img1, roi_objects, roi_obj_hierarchy, 4, 6)"
   ]
  },
  {
   "cell_type": "code",
   "execution_count": null,
   "metadata": {},
   "outputs": [],
   "source": [
    "# STEP 13: This function takes clustered contours and splits them into multiple images,\n",
    "# also does a check to make sure that the number of inputted filenames matches the number\n",
    "# of clustered contours. If no filenames are given then the objects are just numbered\n",
    "# Inputs:\n",
    "#    img                     = ideally a masked RGB image.\n",
    "#    grouped_contour_indexes = output of cluster_contours, indexes of clusters of contours\n",
    "#    contours                = contours to cluster, output of cluster_contours\n",
    "#    hierarchy               = object hierarchy\n",
    "#    outdir                  = directory for output images\n",
    "#    file                    = the name of the input image to use as a base name , output of filename from read_image function\n",
    "#    filenames               = input txt file with list of filenames in order from top to bottom left to right (likely list of genotypes)\n",
    "\n",
    "# Set global debug behavior to None (default), \"print\" (to file), or \"plot\" (Jupyter Notebooks or X11)\n",
    "pcv.params.debug = \"print\"\n",
    "\n",
    "out = args.outdir\n",
    "names = args.names\n",
    "\n",
    "output_path = pcv.cluster_contour_splitimg(img1, clusters_i, contours, \n",
    "                                           hierarchies, out, file=filename, \n",
    "                                           filenames=names)"
   ]
  }
 ],
 "metadata": {
  "kernelspec": {
   "display_name": "Python 2",
   "language": "python",
   "name": "python2"
  },
  "language_info": {
   "codemirror_mode": {
    "name": "ipython",
    "version": 2.0
   },
   "file_extension": ".py",
   "mimetype": "text/x-python",
   "name": "python",
   "nbconvert_exporter": "python",
   "pygments_lexer": "ipython2",
   "version": "2.7.6"
  }
 },
 "nbformat": 4,
 "nbformat_minor": 0
}