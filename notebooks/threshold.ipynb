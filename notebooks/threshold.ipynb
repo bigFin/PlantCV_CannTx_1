{
 "cells": [
  {
   "cell_type": "markdown",
   "metadata": {
    "collapsed": true
   },
   "source": [
    "# Threshold Tools \n",
    "\n",
    " A single channel of an image is selected for either binary thresholding or auto thresholding (Gaussian, mean, Otsu, or triangle). For a color image, selecting a channel of an image for thresholding likely involves conversion from RGB to HSV or LAB color space, then selecting Hue, Saturation, Value, Lightness, Green-Magenta, or Blue-Yellow channels. It's best to select a channel that maximizes contrast between the target object and the background. When thresholding an image to segment a target object, it may not be possible to isolate just the target object. Multiple thresholding steps on various channels may be necessary as well as downstream noise reduction steps. For an example of this approach see the [VIS tutorial](vis_tutorial.ipynb)."
   ]
  },
  {
   "cell_type": "code",
   "execution_count": null,
   "metadata": {},
   "outputs": [],
   "source": [
    "from plantcv import plantcv as pcv"
   ]
  },
  {
   "cell_type": "code",
   "execution_count": null,
   "metadata": {},
   "outputs": [],
   "source": [
    "class options:\n",
    "    def __init__(self):\n",
    "        self.image = \"img/tutorial_images/vis/original_image.jpg\"\n",
    "        self.debug = \"plot\"\n",
    "        self.writeimg= False\n",
    "        self.outdir = \".\"\n",
    "        \n",
    "# Get options\n",
    "args = options()\n",
    "\n",
    "# Set debug to the global parameter \n",
    "pcv.params.debug = args.debug\n",
    "\n",
    "# Read image\n",
    "img, path, filename = pcv.readimage(args.image)"
   ]
  },
  {
   "cell_type": "markdown",
   "metadata": {},
   "source": [
    "Each of the threshold methods take grayscale image data, and there are a few different ways to transform a color image into a gray color space. Examples of `rgb2gray_lab` and `rgb2gray_hsv` (and the way that multiple color spaces can be combined to further reduce noise) can be found in the [VIS tutorial](vis_tutorial.ipynb) and the [VIS/NIR tutorial](vis_nir_tutorial.ipynb). "
   ]
  },
  {
   "cell_type": "code",
   "execution_count": null,
   "metadata": {},
   "outputs": [],
   "source": [
    "# Convert the RGB img to grayscale \n",
    "\n",
    "# Inputs:\n",
    "#   rgb_img - RGB image data \n",
    "gray_img = pcv.rgb2gray(img)\n",
    "\n",
    "# There isn't a lot of contrast between the plant and background, so we can use \n",
    "# the blue-yellow channel. Feel free to try other channels and/or upload your\n",
    "# own images! \n",
    "gray_img_b = pcv.rgb2gray_lab(img, 'b')"
   ]
  },
  {
   "cell_type": "code",
   "execution_count": null,
   "metadata": {},
   "outputs": [],
   "source": [
    "# Plot a histogram to help inform a reasonable threshold value \n",
    "\n",
    "# Inputs:\n",
    "#   gray_img - Grayscale image to analyze \n",
    "#   mask - An optional binary mask made from selected contours, default mask=None \n",
    "#   bins - Number of classes to divide the spectrum into, default bins=256"
   ]
  },
  {
   "cell_type": "code",
   "execution_count": null,
   "metadata": {},
   "outputs": [],
   "source": [
    "# Create a binary image based on a threshold value \n",
    "\n",
    "# Inputs:\n",
    "#   gray_img - Grayscale image data \n",
    "#   threhold - Threshold value (0-255), cutoff point for thresholding \n",
    "#   max_value - Value to apply above the threshold (255 = white)\n",
    "#   object_type - 'light' (default) or 'dark', if the object is lighter than the \n",
    "#                 background then standard threholding is done, but if darker than\n",
    "#                 background then inverse thresholding is done. \n",
    "binary_thresh1 = pcv.threshold.binary(gray_img_b, 150, 255, 'light')"
   ]
  },
  {
   "cell_type": "code",
   "execution_count": null,
   "metadata": {},
   "outputs": [],
   "source": [
    "# Too much background got picked up. Try a higher threshold value. \n",
    "binary_thresh2 = pcv.threshold.binary(gray_img_b, 160, 255, 'light')"
   ]
  },
  {
   "cell_type": "code",
   "execution_count": null,
   "metadata": {},
   "outputs": [],
   "source": [
    "# Create a binary image using the Gaussian adaptive thresholding method\n",
    "\n",
    "# Inputs:\n",
    "#   gray_img - Grayscale image data \n",
    "#   max_value - Value to apply above threshold (255 = white)\n",
    "#   object_type - 'light' (default) or 'dark', if the object is lighter than the \n",
    "#                 background then standard threholding is done, but if darker than\n",
    "#                 background then inverse thresholding is done. \n",
    "gauss_thresh1 = pcv.threshold.gaussian(gray_img_b, 255, 'dark')"
   ]
  },
  {
   "cell_type": "code",
   "execution_count": null,
   "metadata": {},
   "outputs": [],
   "source": [
    "# Quite a bit of the plant was missed so try another color channel \n",
    "gray_img_l = pcv.rgb2gray_lab(img, 'l')\n",
    "\n",
    "gauss_thresh2 = pcv.threshold.gaussian(gray_img_l, 255, 'dark')"
   ]
  },
  {
   "cell_type": "code",
   "execution_count": null,
   "metadata": {},
   "outputs": [],
   "source": [
    "# Create a binary image using the mean adaptive thresholding method \n",
    "\n",
    "# Inputs:\n",
    "#   gray_img - Grayscale image data \n",
    "#   max_value - Value to apply above threshold (255 = white)\n",
    "#   object_type - 'light' (default) or 'dark', if the object is lighter than the \n",
    "#                 background then standard threholding is done, but if darker than\n",
    "#                 background then inverse thresholding is done. \n",
    "mean_thresh = pcv.threshold.mean(gray_img_l, 255, 'dark')"
   ]
  },
  {
   "cell_type": "code",
   "execution_count": null,
   "metadata": {},
   "outputs": [],
   "source": [
    "# Create a binary image using Otsu's method \n",
    "\n",
    "# Inputs:\n",
    "#   gray_img - Grayscale image data \n",
    "#   max_value - Value to apply above threshold (255 = white)\n",
    "#   object_type - 'light' (default) or 'dark', if the object is lighter than the \n",
    "#                 background then standard threholding is done, but if darker than\n",
    "#                 background then inverse thresholding is done. \n",
    "otsu_thresh1 = pcv.threshold.otsu(gray_img_b, 255, 'dark')"
   ]
  },
  {
   "cell_type": "code",
   "execution_count": null,
   "metadata": {},
   "outputs": [],
   "source": [
    "# The plant container and table it's sitting got picked up but the plant didn't.\n",
    "# Try the green-magenta channel instead\n",
    "gray_img_a = pcv.rgb2gray_lab(img, 'a')\n",
    "\n",
    "otsu_thresh2 = pcv.threshold.otsu(gray_img_a, 255, 'dark')"
   ]
  },
  {
   "cell_type": "code",
   "execution_count": null,
   "metadata": {},
   "outputs": [],
   "source": [
    "# Create a binary image using adaptive thresholding\n",
    "\n",
    "# Inputs:\n",
    "#   gray_img - Grayscale image data \n",
    "#   max_value - Value to apply above threshold (255 = white)\n",
    "#   object_type - 'light' (default) or 'dark', if the object is lighter than the \n",
    "#                 background then standard threholding is done, but if darker than\n",
    "#                 background then inverse thresholding is done. \n",
    "#   xstep - Value to move along the x-axis to determine the points from which to \n",
    "#           calculate distance (recommended to start at 1, the default, and change \n",
    "#           if needed) \n",
    "triangle_thresh = pcv.threshold.triangle(gray_img_l, 255, 'dark', xstep=1)"
   ]
  },
  {
   "cell_type": "code",
   "execution_count": null,
   "metadata": {},
   "outputs": [],
   "source": [
    "\n",
    "# Although not exactly like the rest of the thresholding functions, there is also an edge detection \n",
    "# function that can be used on RGB and grayscale images\n",
    "\n",
    "# Inputs: \n",
    "#   img - RGB or grayscale image data\n",
    "#   sigma - Optional standard deviation of the Gaussian filter\n",
    "#   low_thresh - Optional lower bound for hysteresis thresholding (linking edges). If None (default) \n",
    "#                then low_thresh is set to 10% of the image's max\n",
    "#   high_thresh - Optional upper bound for hysteresis thresholding (linking edges). If None (default)\n",
    "#                 then high_thresh is set to 20% of the image's max\n",
    "#   thickness - Optional integer thickness of the edges, default thickness=1\n",
    "#   mask - Optional mask to limit the application of Canny to a certain area, takes a binary img.\n",
    "#   mask_color - Color of the mask provided; either None (default), 'white', or 'black' (cannot be None \n",
    "#                if mask is provided)\n",
    "#   use_quantiles - Default is False, if True then treat low_thresh and high_thresh as quantiles of the edge magnitude\n",
    "#                   image, rather than the absolute edge magnitude values. If True then thresholds must be \n",
    "#                   within the range `[0, 1]`.\n",
    "\n",
    "# Use function defaults \n",
    "edges = pcv.canny_edge_detect(img)\n"
   ]
  },
  {
   "cell_type": "code",
   "execution_count": null,
   "metadata": {},
   "outputs": [],
   "source": [
    "# sigma=2\n",
    "edges2 = pcv.canny_edge_detect(img, 2)"
   ]
  },
  {
   "cell_type": "code",
   "execution_count": null,
   "metadata": {},
   "outputs": [],
   "source": [
    "# Lower sigma value to pick up more edges\n",
    "edges3 = pcv.canny_edge_detect(img, .1)"
   ]
  },
  {
   "cell_type": "code",
   "execution_count": null,
   "metadata": {},
   "outputs": [],
   "source": [
    "# Create a mask\n",
    "masked, bin_img, rect_contour, hierarchy = pcv.rectangle_mask(img, (65, 50), (300,350), 'black')\n"
   ]
  },
  {
   "cell_type": "code",
   "execution_count": null,
   "metadata": {},
   "outputs": [],
   "source": [
    "# Find edges within a mask\n",
    "edges4 = pcv.canny_edge_detect(img=img, mask=bin_img, mask_color='black')"
   ]
  },
  {
   "cell_type": "code",
   "execution_count": null,
   "metadata": {},
   "outputs": [],
   "source": [
    "# THIS FUNCTION TAKES SEVERAL MINUTE TO RUN \n",
    "# Create a binary image using the texture thresholding method \n",
    "\n",
    "# Inputs:\n",
    "#   gray_img - Grayscale image data \n",
    "#   kernel - Kernel size for the texture measure calculation \n",
    "#   threshold - Threshold value (0-255)\n",
    "#   offset - Distance offsets \n",
    "#   texture_method - Feature of a grey level co-occurrence matrix, either\n",
    "#                    ‘contrast’, ‘dissimilarity’, ‘homogeneity’, ‘ASM’, ‘energy’,\n",
    "#                    or ‘correlation’. For equations of different features see\n",
    "#                    http://scikit-image.org/docs/dev/api/skimage.feature.html#greycoprops\n",
    "#   borders - How the array borders are handled, either ‘reflect’,\n",
    "#             ‘constant’, ‘nearest’, ‘mirror’, or ‘wrap’\n",
    "#   max_value - Value to apply above threshold (usually 255 = white)\n",
    "texture_thresh = pcv.threshold.texture(gray_img_l, 6, 7)"
   ]
  }
 ],
 "metadata": {
  "kernelspec": {
   "display_name": "Python 2",
   "language": "python",
   "name": "python2"
  },
  "language_info": {
   "codemirror_mode": {
    "name": "ipython",
    "version": 2
   },
   "file_extension": ".py",
   "mimetype": "text/x-python",
   "name": "python",
   "nbconvert_exporter": "python",
   "pygments_lexer": "ipython2",
   "version": "2.7.6"
  }
 },
 "nbformat": 4,
 "nbformat_minor": 0
}
