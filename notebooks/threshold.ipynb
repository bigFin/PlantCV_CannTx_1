{
 "cells": [
  {
   "cell_type": "markdown",
   "metadata": {
    "collapsed": true
   },
   "source": [
    "# Threshold Tools \n",
    "\n",
    " A single channel of an image is selected for either binary thresholding or auto thresholding (Gaussian, mean, Otsu, or triangle). For a color image, selecting a channel of an image for thresholding likely involves conversion from RGB to HSV or LAB color space, then selecting Hue, Saturation, Value, Lightness, Green-Magenta, or Blue-Yellow channels. It's best to select a channel that maximizes contrast between the target object and the background. When thresholding an image to segment a target object, it may not be possible to isolate just the target object. Multiple thresholding steps on various channels may be necessary as well as downstream noise reduction steps. For an example of this approach see the [VIS tutorial](vis_tutorial.ipynb)."
   ]
  },
  {
   "cell_type": "code",
   "execution_count": null,
   "metadata": {},
   "outputs": [],
   "source": [
    "%matplotlib inline\n",
    "from plantcv import plantcv as pcv\n",
    "import matplotlib"
   ]
  },
  {
   "cell_type": "code",
   "execution_count": null,
   "metadata": {},
   "outputs": [],
   "source": [
    "class options:\n",
    "    def __init__(self):\n",
    "        self.image = \"img/tutorial_images/vis/original_image.jpg\"\n",
    "        self.debug = \"plot\"\n",
    "        self.writeimg= False\n",
    "        self.outdir = \".\"\n",
    "        \n",
    "# Get options\n",
    "args = options()\n",
    "\n",
    "# Set debug to the global parameter \n",
    "pcv.params.debug = args.debug\n",
    "\n",
    "# Read image\n",
    "img, path, filename = pcv.readimage(args.image)"
   ]
  },
  {
   "cell_type": "markdown",
   "metadata": {},
   "source": [
    "Each of the threshold methods take grayscale image data, and there are a few different ways to transform a color image into a gray color space. Examples of `rgb2gray_lab` and `rgb2gray_hsv` (and the way that multiple color spaces can be combined to further reduce noise) can be found in the [VIS tutorial](vis_tutorial.ipynb) and the [VIS/NIR tutorial](vis_nir_tutorial.ipynb). "
   ]
  },
  {
   "cell_type": "code",
   "execution_count": null,
   "metadata": {},
   "outputs": [],
   "source": [
    "# Convert the RGB img to grayscale \n",
    "\n",
    "# Inputs:\n",
    "#   rgb_img - RGB image data \n",
    "gray_img = pcv.rgb2gray(img)\n",
    "\n",
    "# There isn't a lot of contrast between the plant and background, so we can use \n",
    "# the blue-yellow channel. Feel free to try other channels and/or upload your\n",
    "# own images! \n",
    "gray_img_b = pcv.rgb2gray_lab(img, 'b')"
   ]
  },
  {
   "cell_type": "code",
   "execution_count": null,
   "metadata": {},
   "outputs": [],
   "source": [
    "# Create a binary image based on a threshold value \n",
    "\n",
    "# Inputs:\n",
    "#   gray_img - Grayscale image data \n",
    "#   threhold - Threshold value (0-255), cutoff point for thresholding \n",
    "#   max_value - Value to apply above the threshold (255 = white)\n",
    "#   object_type - 'light' (default) or 'dark', if the object is lighter than the \n",
    "#                 background then standard threholding is done, but if darker than\n",
    "#                 background then inverse thresholding is done. \n",
    "binary_thresh1 = pcv.threshold.binary(gray_img_b, 150, 255, 'light')"
   ]
  },
  {
   "cell_type": "code",
   "execution_count": null,
   "metadata": {},
   "outputs": [],
   "source": [
    "# Too much background got picked up. Try a higher threshold value. \n",
    "binary_thresh2 = pcv.threshold.binary(gray_img_b, 160, 255, 'light')"
   ]
  },
  {
   "cell_type": "code",
   "execution_count": null,
   "metadata": {},
   "outputs": [],
   "source": [
    "# Create a binary image using the Gaussian adaptive thresholding method\n",
    "\n",
    "# Inputs:\n",
    "#   gray_img - Grayscale image data \n",
    "#   max_value - Value to apply above threshold (255 = white)\n",
    "#   object_type - 'light' (default) or 'dark', if the object is lighter than the \n",
    "#                 background then standard threholding is done, but if darker than\n",
    "#                 background then inverse thresholding is done. \n",
    "gauss_thresh1 = pcv.threshold.gaussian(gray_img_b, 255, 'dark')"
   ]
  },
  {
   "cell_type": "code",
   "execution_count": null,
   "metadata": {},
   "outputs": [],
   "source": [
    "# Quite a bit of the plant was missed so try another color channel \n",
    "gray_img_l = pcv.rgb2gray_lab(img, 'l')\n",
    "\n",
    "gauss_thresh2 = pcv.threshold.gaussian(gray_img_l, 255, 'dark')"
   ]
  },
  {
   "cell_type": "code",
   "execution_count": null,
   "metadata": {},
   "outputs": [],
   "source": [
    "# Create a binary image using the mean adaptive thresholding method \n",
    "\n",
    "# Inputs:\n",
    "#   gray_img - Grayscale image data \n",
    "#   max_value - Value to apply above threshold (255 = white)\n",
    "#   object_type - 'light' (default) or 'dark', if the object is lighter than the \n",
    "#                 background then standard threholding is done, but if darker than\n",
    "#                 background then inverse thresholding is done. \n",
    "mean_thresh = pcv.threshold.mean(gray_img_l, 255, 'dark')"
   ]
  },
  {
   "cell_type": "code",
   "execution_count": null,
   "metadata": {},
   "outputs": [],
   "source": [
    "# Create a binary image using Otsu's method \n",
    "\n",
    "# Inputs:\n",
    "#   gray_img - Grayscale image data \n",
    "#   max_value - Value to apply above threshold (255 = white)\n",
    "#   object_type - 'light' (default) or 'dark', if the object is lighter than the \n",
    "#                 background then standard threholding is done, but if darker than\n",
    "#                 background then inverse thresholding is done. \n",
    "otsu_thresh1 = pcv.threshold.otsu(gray_img_b, 255, 'dark')"
   ]
  },
  {
   "cell_type": "code",
   "execution_count": null,
   "metadata": {},
   "outputs": [],
   "source": [
    "# The plant container and table it's sitting got picked up but the plant didn't.\n",
    "# Try the green-magenta channel instead\n",
    "gray_img_a = pcv.rgb2gray_lab(img, 'a')\n",
    "\n",
    "otsu_thresh2 = pcv.threshold.otsu(gray_img_a, 255, 'dark')"
   ]
  },
  {
   "cell_type": "code",
   "execution_count": null,
   "metadata": {},
   "outputs": [],
   "source": [
    "# Create a binary image using adaptive thresholding\n",
    "\n",
    "# Inputs:\n",
    "#   gray_img - Grayscale image data \n",
    "#   max_value - Value to apply above threshold (255 = white)\n",
    "#   object_type - 'light' (default) or 'dark', if the object is lighter than the \n",
    "#                 background then standard threholding is done, but if darker than\n",
    "#                 background then inverse thresholding is done. \n",
    "#   xstep - Value to move along the x-axis to determine the points from which to \n",
    "#           calculate distance (recommended to start at 1, the default, and change \n",
    "#           if needed) \n",
    "triangle_thresh = pcv.threshold.triangle(gray_img_l, 255, 'dark', xstep=1)"
   ]
  }
 ],
 "metadata": {
  "kernelspec": {
   "display_name": "Python 2",
   "language": "python",
   "name": "python2"
  },
  "language_info": {
   "codemirror_mode": {
    "name": "ipython",
    "version": 2.0
   },
   "file_extension": ".py",
   "mimetype": "text/x-python",
   "name": "python",
   "nbconvert_exporter": "python",
   "pygments_lexer": "ipython2",
   "version": "2.7.6"
  }
 },
 "nbformat": 4,
 "nbformat_minor": 0
}