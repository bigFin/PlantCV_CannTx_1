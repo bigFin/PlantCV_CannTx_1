{
 "cells": [
  {
   "cell_type": "markdown",
   "metadata": {
    "collapsed": true
   },
   "source": [
    "## NIR Tutorial "
   ]
  },
  {
   "cell_type": "code",
   "execution_count": null,
   "metadata": {},
   "outputs": [],
   "source": [
    "# Plot images in line \n",
    "%matplotlib inline\n",
    "import matplotlib\n",
    "# Set the desired figure size to get printed out \n",
    "matplotlib.rcParams[\"figure.figsize\"] = (8.0, 8.0)\n",
    "# Import PlantCV \n",
    "from plantcv import plantcv as pcv"
   ]
  },
  {
   "cell_type": "code",
   "execution_count": null,
   "metadata": {},
   "outputs": [],
   "source": [
    "class options:\n",
    "    def __init__(self):\n",
    "        self.image = \"img/tutorial_images/vis/original_image.jpg\"\n",
    "        self.debug = \"plot\"\n",
    "        self.writeimg = False\n",
    "        self.result = \"vis_tutorial_results.txt\""
   ]
  },
  {
   "cell_type": "code",
   "execution_count": null,
   "metadata": {},
   "outputs": [],
   "source": [
    "# Get options\n",
    "args = options()\n",
    "\n",
    "# Read image\n",
    "img, path, filename = pcv.readimage(args.image, args.debug)"
   ]
  },
  {
   "cell_type": "code",
   "execution_count": null,
   "metadata": {},
   "outputs": [],
   "source": [
    "# Read in the background image \n",
    "img_bkgrd = cv2.imread(\"background_nir_z2500.png\", flags=0)"
   ]
  },
  {
   "cell_type": "code",
   "execution_count": null,
   "metadata": {},
   "outputs": [],
   "source": [
    "# Subtract the background image from the image with the plant. \n",
    "bkg_sub_img = pcv.image_subtrat(img, img_bkgrd)"
   ]
  },
  {
   "cell_type": "code",
   "execution_count": null,
   "metadata": {},
   "outputs": [],
   "source": [
    "# Threshold the image of interest using the two-sided cv2.inRange function (keep what is between 50-190) \n",
    "bkg_sub_thres_img = cv2.inRange(bkg_sub_img, 50, 190)\n",
    "# Since we are using an OpenCV function, we need to make it print\n",
    "if args.debug == 'print': \n",
    "    pcv.print_image(bkg_sub_thres_img, 'bkgrd_sub_thres.png')\n",
    "elif args.debug == 'plot'\n",
    "    pcv.plot_image(bkg_sub_thres_img)"
   ]
  },
  {
   "cell_type": "code",
   "execution_count": null,
   "metadata": {},
   "outputs": [],
   "source": [
    "# Laplace filtering (identify edges based on 2nd derivative)\n",
    "lp_img = pcv.laplace_filter(img, 1, 1)\n",
    "if args.debug:\n",
    "        pcv.plot_hist(lp_img, 'hist_lp')"
   ]
  },
  {
   "cell_type": "code",
   "execution_count": null,
   "metadata": {},
   "outputs": [],
   "source": [
    "# Lapacian image sharpening, this step will enhance the darkness of the edges detected\n",
    "lp_shrp_img = pcv.image_subtract(img, lp_img)\n",
    "if args.debug:\n",
    "        pcv.plot_hist(lp_sharp_img, 'hist_lp_sharp')"
   ]
  },
  {
   "cell_type": "code",
   "execution_count": null,
   "metadata": {},
   "outputs": [],
   "source": [
    "# Sobel filtering\n",
    "# 1st derivative sobel filtering along horizontal axis, kernel = 1)\n",
    "sbx_img = pcv.sobel_filter(img, 1, 0, 1)"
   ]
  },
  {
   "cell_type": "code",
   "execution_count": null,
   "metadata": {},
   "outputs": [],
   "source": [
    "# 1st derivative sobel filtering along vertical axis, kernel = 1)\n",
    "sby_img = pcv.sobel_filter(img, 0, 1, 1)"
   ]
  },
  {
   "cell_type": "code",
   "execution_count": null,
   "metadata": {},
   "outputs": [],
   "source": [
    "# Combine the effects of both x and y filters through matrix addition\n",
    "# This will capture edges identified within each plane and emphesize edges found in both images\n",
    "sb_img = pcv.image_add(sbx_img, sby_img)"
   ]
  },
  {
   "cell_type": "code",
   "execution_count": null,
   "metadata": {},
   "outputs": [],
   "source": [
    "# Use a lowpass (blurring) filter to smooth sobel image\n",
    "mblur_img = pcv.median_blur(sb_img, 1)"
   ]
  },
  {
   "cell_type": "code",
   "execution_count": null,
   "metadata": {},
   "outputs": [],
   "source": [
    "mblur_invert_img = pcv.invert(mblur_img)"
   ]
  },
  {
   "cell_type": "code",
   "execution_count": null,
   "metadata": {},
   "outputs": [],
   "source": [
    "# combine the smoothed sobel image with the laplacian sharpened image\n",
    "# combines the best features of both methods as described in \"Digital Image Processing\" by Gonzalez and Woods pg. 169\n",
    "edge_shrp_img = pcv.image_add(mblur_invert_img, lp_shrp_img)"
   ]
  },
  {
   "cell_type": "code",
   "execution_count": null,
   "metadata": {},
   "outputs": [],
   "source": [
    "# Perform thresholding to generate a binary image\n",
    "tr_es_img = pcv.threshold.binary(edge_shrp_img, 145, 255, 'dark')"
   ]
  },
  {
   "cell_type": "code",
   "execution_count": null,
   "metadata": {},
   "outputs": [],
   "source": [
    "# Do erosion with a 3x3 kernel\n",
    "e1_img = pcv.erode(tr_es_img, 3, 1)"
   ]
  },
  {
   "cell_type": "code",
   "execution_count": null,
   "metadata": {},
   "outputs": [],
   "source": [
    "# Bring the two object identification approaches together.\n",
    "# Using a logical OR combine object identified by background subtraction and the object identified by derivative filter.\n",
    "comb_img = pcv.logical_or(e1_img, bkg_sub_thres_img)"
   ]
  },
  {
   "cell_type": "code",
   "execution_count": null,
   "metadata": {},
   "outputs": [],
   "source": [
    "# Get masked image, Essentially identify pixels corresponding to plant and keep those.\n",
    "masked_erd = pcv.apply_mask(img, comb_img, 'black')"
   ]
  },
  {
   "cell_type": "code",
   "execution_count": null,
   "metadata": {},
   "outputs": [],
   "source": [
    "# Need to remove the edges of the image, we did that by generating a set of rectangles to mask the edges\n",
    "# img is (254 X 320)\n",
    "# Mask for the bottom of the image\n",
    "masked1, box1_img, rect_contour1, hierarchy1 = pcv.rectangle_mask(img, (120,184), (215,252))"
   ]
  },
  {
   "cell_type": "code",
   "execution_count": null,
   "metadata": {},
   "outputs": [],
   "source": [
    "# Mask for the left side of the image\n",
    "masked2, box2_img, rect_contour2, hierarchy2 = pcv.rectangle_mask(img, (1,1), (85,252))"
   ]
  },
  {
   "cell_type": "code",
   "execution_count": null,
   "metadata": {},
   "outputs": [],
   "source": [
    "# Mask for the right side of the image\n",
    "masked3, box3_img, rect_contour3, hierarchy3 = pcv.rectangle_mask(img, (240,1), (318,252))"
   ]
  },
  {
   "cell_type": "code",
   "execution_count": null,
   "metadata": {},
   "outputs": [],
   "source": [
    "# Mask the edges\n",
    "masked4, box4_img, rect_contour4, hierarchy4 = pcv.rectangle_mask(img, (1,1), (318,252))"
   ]
  },
  {
   "cell_type": "code",
   "execution_count": null,
   "metadata": {},
   "outputs": [],
   "source": [
    "# Combine boxes to filter the edges and car out of the photo\n",
    "bx12_img = pcv.logical_or(box1_img, box2_img)"
   ]
  },
  {
   "cell_type": "code",
   "execution_count": null,
   "metadata": {},
   "outputs": [],
   "source": [
    "bx123_img = pcv.logical_or(bx12_img, box3_img)"
   ]
  },
  {
   "cell_type": "code",
   "execution_count": null,
   "metadata": {},
   "outputs": [],
   "source": [
    "bx1234_img = pcv.logical_or(bx123_img, box4_img)"
   ]
  },
  {
   "cell_type": "code",
   "execution_count": null,
   "metadata": {},
   "outputs": [],
   "source": [
    "# Invert this mask and then apply it the masked image.\n",
    "inv_bx1234_img = pcv.invert(bx1234_img)"
   ]
  },
  {
   "cell_type": "code",
   "execution_count": null,
   "metadata": {},
   "outputs": [],
   "source": [
    "edge_masked_img = pcv.apply_mask(masked_erd, inv_bx1234_img, 'black')"
   ]
  },
  {
   "cell_type": "code",
   "execution_count": null,
   "metadata": {},
   "outputs": [],
   "source": [
    "# Identify objects\n",
    "id_objects,obj_hierarchy = pcv.find_objects(edge_masked_img, inv_bx1234_img)"
   ]
  },
  {
   "cell_type": "code",
   "execution_count": null,
   "metadata": {},
   "outputs": [],
   "source": [
    "# Define ROI\n",
    "roi1, roi_hierarchy= pcv.roi.rectangle(x=100, y=100, h=200, w=200, img=edge_masked_img)"
   ]
  },
  {
   "cell_type": "code",
   "execution_count": null,
   "metadata": {},
   "outputs": [],
   "source": [
    "# Decide which objects to keep\n",
    "roi_objects, hierarchy5, kept_mask, obj_area = pcv.roi_objects(edge_masked_img, 'partial', roi1, roi_hierarchy, id_objects, obj_hierarchy)"
   ]
  },
  {
   "cell_type": "code",
   "execution_count": null,
   "metadata": {},
   "outputs": [],
   "source": [
    "# Use the object_composition function to outline the plant \n",
    "rgb_img = cv2.cvtColor(img,cv2.COLOR_GRAY2RGB)\n",
    "o, m = pcv.object_composition(rgb_img, roi_objects, hierarchy5)"
   ]
  },
  {
   "cell_type": "markdown",
   "metadata": {},
   "source": [
    "Now we can perform the analysis of pixelwise signal value and object shape attributes.\n"
   ]
  },
  {
   "cell_type": "code",
   "execution_count": null,
   "metadata": {},
   "outputs": [],
   "source": [
    "### Analysis ###\n",
    "\n",
    "outfile=False\n",
    "if args.writeimg==True:\n",
    "    outfile=args.outdir+\"/\"+filename\n",
    "\n",
    "# Perform signal analysis\n",
    "nir_header, nir_data, nir_img = pcv.analyze_nir_intensity(img, kept_mask, 256, args.outdir + '/' + img_name)\n",
    "# Perform shape analysis\n",
    "shape_header, shape_data, shape_img = pcv.analyze_object(rgb_img, o, m, args.outdir + '/' + img_name)\n",
    "\n",
    "# Write shape and nir data to results file\n",
    "result=open(args.result,\"a\")\n",
    "result.write('\\t'.join(map(str,shape_header)))\n",
    "result.write(\"\\n\")\n",
    "result.write('\\t'.join(map(str,shape_data)))\n",
    "result.write(\"\\n\")\n",
    "for row in shape_img:\n",
    "    result.write('\\t'.join(map(str,row)))\n",
    "    result.write(\"\\n\")\n",
    "result.write('\\t'.join(map(str,nir_header)))\n",
    "result.write(\"\\n\")\n",
    "result.write('\\t'.join(map(str,nir_data)))\n",
    "result.write(\"\\n\")\n",
    "for row in nir_img:\n",
    "    result.write('\\t'.join(map(str,row)))\n",
    "    result.write(\"\\n\")\n",
    "result.close()"
   ]
  },
  {
   "cell_type": "code",
   "execution_count": null,
   "metadata": {},
   "outputs": [],
   "source": [
    ""
   ]
  }
 ],
 "metadata": {
  "kernelspec": {
   "display_name": "Python 2",
   "language": "python",
   "name": "python2"
  },
  "language_info": {
   "codemirror_mode": {
    "name": "ipython",
    "version": 2.0
   },
   "file_extension": ".py",
   "mimetype": "text/x-python",
   "name": "python",
   "nbconvert_exporter": "python",
   "pygments_lexer": "ipython2",
   "version": "2.7.6"
  }
 },
 "nbformat": 4,
 "nbformat_minor": 0
}