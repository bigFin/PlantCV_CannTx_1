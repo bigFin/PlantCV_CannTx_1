{
 "cells": [
  {
   "cell_type": "code",
   "execution_count": null,
   "metadata": {
    "collapsed": true
   },
   "outputs": [],
   "source": [
    "from plantcv import plantcv as pcv\n",
    "import cv2\n",
    "import numpy as np"
   ]
  },
  {
   "cell_type": "code",
   "execution_count": null,
   "metadata": {},
   "outputs": [],
   "source": [
    "pcv.params.debug = \"print\" #set debug mode\n",
    "\n",
    "target_img = cv2.imread(\"target_img.png\")\n",
    "source_img = cv2.imread(\"source1_img.png\")\n",
    "mask = cv2.imread(\"test_mask.png\", -1) # mask must be read in \"as-is\" include -1\n",
    "#Since target_img and source_img have the same zoom and colorchecker position, the same mask can be used for both."
   ]
  },
  {
   "cell_type": "code",
   "execution_count": null,
   "metadata": {},
   "outputs": [],
   "source": [
    "#.npz files containing target_matrix, source_matrix, and transformation_matrix will be saved to the output_directory file path\n",
    "\n",
    "output_directory = \"./test1\""
   ]
  },
  {
   "cell_type": "code",
   "execution_count": null,
   "metadata": {},
   "outputs": [],
   "source": [
    "target_matrix, source_matrix, transformation_matrix, corrected_img = pcv.transform.correct_color(target_img, mask, source_img, mask, output_directory)"
   ]
  },
  {
   "cell_type": "code",
   "execution_count": null,
   "metadata": {},
   "outputs": [],
   "source": [
    "transformation_matrix = pcv.transform.load_matrix(\"./test1/transformation_matrix.npz\") #load in transformation_matrix\n",
    "\n",
    "new_source = cv2.imread(\"VIS_SV_0_z1_h1_g0_e65_v500_376217_0.png\") #read in new image for transformation\n",
    "\n",
    "#apply transformation\n",
    "corrected_img = pcv.transform.apply_transformation_matrix(source_img= new_source, target_img= target_img, transformation_matrix= transformation_matrix)"
   ]
  },
  {
   "cell_type": "code",
   "execution_count": null,
   "metadata": {},
   "outputs": [],
   "source": [
    "target_img = cv2.imread(\"target_img.png\")\n",
    "source_img = cv2.imread(\"source_img.png\")\n",
    "mask = cv2.imread(\"mask.png\", -1) # mask must be read in \"as-is\" include -1\n",
    "#Since target_img and source_img have the same zoom and colorchecker position, the same mask can be used for both."
   ]
  },
  {
   "cell_type": "code",
   "execution_count": null,
   "metadata": {},
   "outputs": [],
   "source": [
    "# get color matrix of target and save\n",
    "target_headers, target_matrix = pcv.transform.get_color_matrix(target_img, mask)\n",
    "pcv.transform.save_matrix(target_matrix, \"target.npz\")"
   ]
  },
  {
   "cell_type": "code",
   "execution_count": null,
   "metadata": {},
   "outputs": [],
   "source": [
    "#get color_matrix of source\n",
    "source_headers, source_matrix = pcv.transform.get_color_matrix(source_img, mask)"
   ]
  },
  {
   "cell_type": "code",
   "execution_count": null,
   "metadata": {},
   "outputs": [],
   "source": [
    "# matrix_a is a matrix of average rgb values for each color ship in source_img, matrix_m is a moore-penrose inverse matrix,\n",
    "# matrix_b is a matrix of average rgb values for each color ship in source_img\n",
    "\n",
    "matrix_a, matrix_m, matrix_b = pcv.transform.get_matrix_m(target_matrix= target_matrix, source_matrix= source_matrix)"
   ]
  },
  {
   "cell_type": "code",
   "execution_count": null,
   "metadata": {},
   "outputs": [],
   "source": [
    "# deviance is the measure of how greatly the source image deviates from the target image's color space. \n",
    "# Two images of the same color space should have a deviance of ~0.\n",
    "# transformation_matrix is a 9x9 matrix of transformation coefficients \n",
    "\n",
    "deviance, transformation_matrix = pcv.transform.calc_transformation_matrix(matrix_m, matrix_b)"
   ]
  },
  {
   "cell_type": "code",
   "execution_count": null,
   "metadata": {},
   "outputs": [],
   "source": [
    "corrected_img = pcv.transform.apply_transformation_matrix(source_img= source_img, target_img= target_img, transformation_matrix= transformation_matrix)"
   ]
  },
  {
   "cell_type": "code",
   "execution_count": null,
   "metadata": {},
   "outputs": [],
   "source": [
    "#This program illustrates how to create a gray-scale mask for use with plantcv.transform.correct_color.\n",
    "\n",
    "from plantcv import plantcv as pcv\n",
    "import cv2\n",
    "import numpy as np\n",
    "\n",
    "pcv.params.debug = \"plot\""
   ]
  },
  {
   "cell_type": "code",
   "execution_count": null,
   "metadata": {},
   "outputs": [],
   "source": [
    "# Read in img\n",
    "img = cv2.imread(\"target_img.png\") \n",
    "pcv.plot_image(img)"
   ]
  },
  {
   "cell_type": "code",
   "execution_count": null,
   "metadata": {},
   "outputs": [],
   "source": [
    "#Using the pixel coordinate on the plotted image, designate a region of interest for an n x n pixel region in each color chip.\n",
    "\n",
    "dimensions = [50,50]  #pixel ROI dimensions\n",
    "\n",
    "chips = []\n",
    "#Declare first row:\n",
    "chips.append(pcv.roi.rectangle(img=img, x=1020, y = 1010, w = dimensions[0], h = dimensions[1])) #white\n",
    "chips.append(pcv.roi.rectangle(img=img, x= 1150 , y= 1010 , w = dimensions[0], h = dimensions[1]))#blue\n",
    "chips.append(pcv.roi.rectangle(img=img, x= 1280 , y= 1010 , w = dimensions[0], h = dimensions[1]))#orange\n",
    "chips.append(pcv.roi.rectangle(img=img, x= 1420 , y= 1010 , w = dimensions[0], h = dimensions[1]))#brown\n",
    "    \n",
    "\n",
    "\n",
    "#declare y_shift\n",
    "y_shift = 135\n",
    "\n",
    "#declare number of total rows\n",
    "row_total = 6\n",
    "\n",
    "#declare all other rows\n",
    "for i in range(1, row_total):\n",
    "    chips.append(pcv.roi.rectangle(img=img, x=1020, y = 1010 + i*(y_shift), w = dimensions[0], h = dimensions[1]))\n",
    "    chips.append(pcv.roi.rectangle(img=img, x= 1150 , y= 1010 + i*(y_shift), w = dimensions[0], h = dimensions[1]))\n",
    "    chips.append(pcv.roi.rectangle(img=img, x= 1280 , y= 1010 + i*(y_shift), w = dimensions[0], h = dimensions[1]))\n",
    "    chips.append(pcv.roi.rectangle(img=img, x= 1420 , y= 1010 + i*(y_shift), w = dimensions[0], h = dimensions[1]))"
   ]
  },
  {
   "cell_type": "code",
   "execution_count": null,
   "metadata": {},
   "outputs": [],
   "source": [
    "#remove black and white\n",
    "del chips[0]\n",
    "del chips[19]\n",
    "\n",
    "mask = np.zeros(shape=np.shape(img)[:2], dtype = np.uint8()) # create empty mask img.\n",
    "\n",
    "print(mask)"
   ]
  },
  {
   "cell_type": "code",
   "execution_count": null,
   "metadata": {},
   "outputs": [],
   "source": [
    "# draw contours for each region of interest and give them unique color values.\n",
    "\n",
    "i=1\n",
    "for chip in chips:\n",
    "    print(chip)\n",
    "    mask = cv2.drawContours(mask, chip[0], -1, (i*10), -1)\n",
    "    i+=1\n",
    "\n",
    "\n",
    "pcv.plot_image(mask, cmap=\"gray\")\n",
    "\n",
    "mask = mask*10  #multiply values in the mask for greater contrast. Exclude if designating have more than 25 color chips."
   ]
  },
  {
   "cell_type": "code",
   "execution_count": null,
   "metadata": {},
   "outputs": [],
   "source": [
    "np.unique(mask)"
   ]
  },
  {
   "cell_type": "code",
   "execution_count": null,
   "metadata": {},
   "outputs": [],
   "source": [
    "cv2.imwrite(\"test_mask.png\", mask) #write to file."
   ]
  },
  {
   "cell_type": "markdown",
   "metadata": {},
   "source": [
    "## Creating a pipeline with incomplete color data "
   ]
  },
  {
   "cell_type": "code",
   "execution_count": null,
   "metadata": {},
   "outputs": [],
   "source": [
    "from plantcv import plantcv as pcv\n",
    "import cv2\n",
    "import numpy as np\n",
    "import matplotlib"
   ]
  },
  {
   "cell_type": "code",
   "execution_count": null,
   "metadata": {},
   "outputs": [],
   "source": [
    "target_img = cv2.imread(\"target_img.png\")\n",
    "source_img = cv2.imread(\"source2_img.png\")\n",
    "target_mask = cv2.imread(\"test_mask.png\", -1) # mask must be read in \"as-is\" include -1\n",
    "source_mask = cv2.imread(\"mask2_img.png\", -1) \n",
    "\n",
    "#.npz files containing target_matrix, source_matrix, and transformation_matrix will be saved to the output_directory file path\n",
    "output_directory = \"./test1\""
   ]
  },
  {
   "cell_type": "code",
   "execution_count": null,
   "metadata": {},
   "outputs": [],
   "source": [
    "target_matrix, source_matrix, transformation_matrix, corrected_img = pcv.transform.correct_color(target_img, target_mask, source_img, source_mask, output_directory)"
   ]
  },
  {
   "cell_type": "code",
   "execution_count": null,
   "metadata": {},
   "outputs": [],
   "source": [
    "transformation_matrix = pcv.transform.load_matrix(\"./test1/transformation_matrix.npz\") #load in transformation_matrix\n",
    "\n",
    "new_source = cv2.imread(\"VIS_SV_0_z1_h1_g0_e65_v500_376217_0.png\") #read in new image for transformation\n",
    "\n",
    "corrected_img = pcv.transform.apply_transformation_matrix(source_img= new_source, target_img= target_img, transformation_matrix= transformation_matrix) #apply transformation"
   ]
  },
  {
   "cell_type": "markdown",
   "metadata": {},
   "source": [
    "## Checking the color card chips "
   ]
  },
  {
   "cell_type": "code",
   "execution_count": null,
   "metadata": {},
   "outputs": [],
   "source": [
    "from plantcv import plantcv as pcv\n",
    "from plotnine import *\n",
    "import numpy as np\n",
    "import pandas as pd\n",
    "\n",
    "pcv.transform.quick_color_check(source_matrix = s_matrix, target_matrix = t_matrix, num_chips = 24)"
   ]
  },
  {
   "cell_type": "code",
   "execution_count": null,
   "metadata": {},
   "outputs": [],
   "source": [
    ""
   ]
  }
 ],
 "metadata": {
  "kernelspec": {
   "display_name": "Python 2",
   "language": "python",
   "name": "python2"
  },
  "language_info": {
   "codemirror_mode": {
    "name": "ipython",
    "version": 2.0
   },
   "file_extension": ".py",
   "mimetype": "text/x-python",
   "name": "python",
   "nbconvert_exporter": "python",
   "pygments_lexer": "ipython2",
   "version": "2.7.6"
  }
 },
 "nbformat": 4,
 "nbformat_minor": 0
}