{
 "cells": [
  {
   "cell_type": "markdown",
   "metadata": {
    "collapsed": true
   },
   "source": [
    "# Region of Interest Tools \n",
    "\n",
    "To further isolate an object from surrounding background a region of interest can be used to select the region of the image that contains the target object. To do this you first detect all the objects in the image using the `find_objects` function, then define the region of interest, then determine if the objects are within, touching, or outside of the region of interest with the `roi_objects` function. The examples below show how to define regions of interest. See examples of how to use `find_objects` and `roi_objects` in the [multi-plant](multi_plant_tutorial.ipynb), [NIR](nir_tutorial.ipynb), [PSII](psII_tutorial.ipynb), [VIS](vis_tutorial.ipynb), and [VIS/NIR](vis_nir_tutorial.ipynb) tutorials. \n"
   ]
  },
  {
   "cell_type": "code",
   "execution_count": null,
   "metadata": {},
   "outputs": [],
   "source": [
    "from plantcv import plantcv as pcv\n",
    "import cv2"
   ]
  },
  {
   "cell_type": "code",
   "execution_count": null,
   "metadata": {},
   "outputs": [],
   "source": [
    "class options:\n",
    "    def __init__(self):\n",
    "        self.image = \"img/tutorial_images/roi/original_image.jpg\"\n",
    "        self.debug = \"plot\"\n",
    "        self.writeimg= False\n",
    "        self.outdir = \".\"\n",
    "        \n",
    "# Get options\n",
    "args = options()\n",
    "\n",
    "# Set debug to the global parameter \n",
    "pcv.params.debug = args.debug\n",
    "\n",
    "# Read image\n",
    "img, path, filename = pcv.readimage(args.image)\n",
    "# Read in the mask \n",
    "mask, mask_path, mask_filename = pcv.readimage(\"img/tutorial_images/roi/roi_image.jpg\")"
   ]
  },
  {
   "cell_type": "code",
   "execution_count": null,
   "metadata": {},
   "outputs": [],
   "source": [
    "# Define a rectangular ROI \n",
    "\n",
    "# Inputs: \n",
    "#   x - The x-coordinate of the upper left corner of the rectangle \n",
    "#   y - The y-coordinate of the upper left corner of the rectangle \n",
    "#   h - The height of the rectangle \n",
    "#   w - The width of the rectangle \n",
    "#   img - RGB or grayscale image to plot the ROI on \n",
    "rect_contour, rect_hierarchy = pcv.roi.rectangle(x=100, y=100, h=250, w=170, img=img)"
   ]
  },
  {
   "cell_type": "code",
   "execution_count": null,
   "metadata": {},
   "outputs": [],
   "source": [
    "# Define a circular ROI \n",
    "\n",
    "# Inputs:\n",
    "#   x - The x-coordinate of the center of the circle \n",
    "#   y - The y-coordinate of the center of the circle\n",
    "#   r - The radius of the circle \n",
    "#   img - RGB or grayscale image to plot the ROI on \n",
    "circle_contour, circle_hierarchy = pcv.roi.circle(x=200, y=210, r=140, img=img)"
   ]
  },
  {
   "cell_type": "code",
   "execution_count": null,
   "metadata": {},
   "outputs": [],
   "source": [
    "# Define an elliptical ROI \n",
    "\n",
    "# Inputs:\n",
    "#   x - The x-coordinate of the center of the ellipse\n",
    "#   y - The y-coordinate of the center of the ellipse\n",
    "#   r1 - The radius of the major axis\n",
    "#   r2 - The radius of the minor axis \n",
    "#   angle - The angle of rotation\n",
    "#   img - RGB or grayscale image to plot the ROI on \n",
    "ellipse_contour, ellipse_hierarchy = pcv.roi.ellipse(x=170, y=200, r1=100, r2=140, angle=0, img=img)"
   ]
  },
  {
   "cell_type": "markdown",
   "metadata": {},
   "source": [
    "The last function currently in the ROI sub-package uses a binary image to create a region of interest. In the [NIR tutorial](nir_tutorial.ipynb) we used the `rectangle_mask` function to mask out background. If the background was consistent across images it might be quicker to save the mask and use the binary image as a region of interest. Below, we can make a binary image using the `rectangle_mask` function. \n"
   ]
  },
  {
   "cell_type": "code",
   "execution_count": null,
   "metadata": {},
   "outputs": [],
   "source": [
    "# Inputs:\n",
    "#   img - RGB or grayscale image data \n",
    "#   p1 - Point at the top left corner of the rectangle (tuple)\n",
    "#   p2 - Point at the bottom right corner of the rectangle (tuple) \n",
    "#   color 'black' (default), 'gray', or 'white'\n",
    "masked1, bin_img, rect_contour1, hierarchy1 = pcv.rectangle_mask(img, (80,80), (300,350), 'white')"
   ]
  },
  {
   "cell_type": "code",
   "execution_count": null,
   "metadata": {},
   "outputs": [],
   "source": [
    "# Apply the binary image as a mask \n",
    "\n",
    "# Inputs:\n",
    "#   bin_img - Binary image, the ROI contour will be identified from this image.\n",
    "#   img - RGB or grayscale image to plot the ROI on \n",
    "bin_contour, bin_hierarchy = pcv.roi.from_binary_image(bin_img, img)"
   ]
  }
 ],
 "metadata": {
  "kernelspec": {
   "display_name": "Python 2",
   "language": "python",
   "name": "python2"
  },
  "language_info": {
   "codemirror_mode": {
    "name": "ipython",
    "version": 2.0
   },
   "file_extension": ".py",
   "mimetype": "text/x-python",
   "name": "python",
   "nbconvert_exporter": "python",
   "pygments_lexer": "ipython2",
   "version": "2.7.6"
  }
 },
 "nbformat": 4,
 "nbformat_minor": 0
}