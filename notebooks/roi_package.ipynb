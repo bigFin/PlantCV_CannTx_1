{
 "cells": [
  {
   "cell_type": "markdown",
   "metadata": {
    "collapsed": true
   },
   "source": [
    "# Region of Interest Tools \n",
    "\n",
    "To further isolate an object from surrounding background a region of interest can be used to select the region of the image that contains the target object. To do this you first detect all the objects in the image, then define the region of interest, then determine if the objects are within, touching, or outside of the region of interest with the roi_objects function.\n",
    "\n",
    "We can use one of the intermediate output images from the [VIS Tutorial](vis_tutorial.ipynb) to demonstrate the different tools from the ROI (region of interest) sub-package. "
   ]
  },
  {
   "cell_type": "code",
   "execution_count": null,
   "metadata": {},
   "outputs": [],
   "source": [
    "from plantcv import plantcv as pcv"
   ]
  },
  {
   "cell_type": "code",
   "execution_count": null,
   "metadata": {},
   "outputs": [],
   "source": [
    "class options:\n",
    "    def __init__(self):\n",
    "        self.image = \"img/tutorial_images/roi/original_image.jpg\"\n",
    "        self.debug = \"plot\"\n",
    "        self.writeimg= False\n",
    "        self.outdir = \".\"\n",
    "        \n",
    "# Get options\n",
    "args = options()\n",
    "\n",
    "# Set debug to the global parameter \n",
    "pcv.params.debug = args.debug\n",
    "\n",
    "# Read image\n",
    "img, path, filename = pcv.readimage(args.image)\n",
    "# Read in the mask \n",
    "mask, mask_path, mask_filename = pcv.readimage(\"img/tutorial_images/roi/roi_image.jpg\")"
   ]
  },
  {
   "cell_type": "code",
   "execution_count": null,
   "metadata": {},
   "outputs": [],
   "source": [
    "# Identify objects (also called contours) within the image\n",
    "\n",
    "# Inputs: \n",
    "#   img - RGB or grayscale image data for plotting \n",
    "#   mask - Binary mask used for detecting contours \n",
    "id_objects, obj_hierarchy = pcv.find_objects(img, mask)"
   ]
  },
  {
   "cell_type": "code",
   "execution_count": null,
   "metadata": {},
   "outputs": [],
   "source": [
    "# Define a rectangular ROI \n",
    "\n",
    "# Inputs: \n",
    "#   x - The x-coordinate of the upper left corner of the rectangle \n",
    "#   y - The y-coordinate of the upper left corner of the rectangle \n",
    "#   h - The height of the rectangle \n",
    "#   w - The width of the rectangle \n",
    "#   img - RGB or grayscale image to plot the ROI on \n",
    "rect_contour, rect_hierarchy = pcv.roi.rectangle(x=100, y=100, h=100, w=100, img=img)"
   ]
  },
  {
   "cell_type": "code",
   "execution_count": null,
   "metadata": {},
   "outputs": [],
   "source": [
    "# Decide which objects to keep\n",
    "\n",
    "# Inputs:\n",
    "#   img - RGB or grayscale image data to display kept objects on \n",
    "#   roi_type - 'cutto' or 'partial' => include objects that are partially inside or overlapping with the ROI \n",
    "#   roi_contour - contour of ROI, output from pcv.roi.rectangle in this case\n",
    "#   object_contour - contour of objects, output from pcv.roi.rectangle in this case \n",
    "#   obj_hierarchy - heirarchy of objects, output from pcv.find_objects function \n",
    "rect_objects, hierarchy1, kept_mask1, obj_area1 = pcv.roi_objects(img, 'partial', rect_contour, rect_hierarchy, id_objects, obj_hierarchy)"
   ]
  },
  {
   "cell_type": "code",
   "execution_count": null,
   "metadata": {},
   "outputs": [],
   "source": [
    "# Define a circular ROI \n",
    "\n",
    "# Inputs:\n",
    "#   x - The x-coordinate of the center of the circle \n",
    "#   y - The y-coordinate of the center of the circle\n",
    "#   r - The radius of the circle \n",
    "#   img - RGB or grayscale image to plot the ROI on \n",
    "circle_contour, circle_hierarchy = pcv.roi.circle(x=200, y=225, r=75, img=img)"
   ]
  },
  {
   "cell_type": "code",
   "execution_count": null,
   "metadata": {},
   "outputs": [],
   "source": [
    "# Decide which objects to keep\n",
    "\n",
    "circle_objects, hierarchy2, kept_mask2, obj_area2 = pcv.roi_objects(img, 'partial', circle_contour, circle_hierarchy, id_objects, obj_hierarchy)"
   ]
  },
  {
   "cell_type": "code",
   "execution_count": null,
   "metadata": {},
   "outputs": [],
   "source": [
    "# Define an elliptical ROI \n",
    "\n",
    "# Inputs:\n",
    "#   x - The x-coordinate of the center of the ellipse\n",
    "#   y - The y-coordinate of the center of the ellipse\n",
    "#   r1 - The radius of the major axis\n",
    "#   r2 - The radius of the minor axis \n",
    "#   angle - The angle of rotation\n",
    "#   img - RGB or grayscale image to plot the ROI on \n",
    "ellipse_contour, ellipse_hierarchy = pcv.roi.ellipse(x=200, y=200, r1=100, r2=80, angle=0, img=img)"
   ]
  },
  {
   "cell_type": "code",
   "execution_count": null,
   "metadata": {},
   "outputs": [],
   "source": [
    "ellipse_objects, hierarchy3, kept_mask3, obj_area3 = pcv.roi_objects(img, 'partial', ellipse_contour, ellipse_hierarchy, id_objects, obj_hierarchy)"
   ]
  },
  {
   "cell_type": "markdown",
   "metadata": {},
   "source": [
    "The last function currently in the ROI sub-package uses a binary image to create a region of interest. In the [NIR tutorial](nir_tutorial.ipynb) we used the `rectangle_mask` function to mask out background. If the background was consistent across images it might be quicker to save the mask and use the binary image as a region of interest. \n"
   ]
  },
  {
   "cell_type": "code",
   "execution_count": null,
   "metadata": {},
   "outputs": [],
   "source": [
    "# Read in the binary image \n",
    "bin_img, bin_path, bin_filename = pcv.readimage(\"img/tutorial_images/roi/binary_image.jpg\")\n",
    "\n",
    "# Apply the binary image as a mask \n",
    "\n",
    "# Inputs:\n",
    "#   bin_img - Binary image, the ROI contour will be identified from this image.\n",
    "#   img - RGB or grayscale image to plot the ROI on \n",
    "bin_contour, bin_hierarchy = pcv.roi.from_binary_image(bin_img, img)"
   ]
  },
  {
   "cell_type": "code",
   "execution_count": null,
   "metadata": {},
   "outputs": [],
   "source": [
    "bin_objects, hierarchy4, kept_mask4, obj_area4 = pcv.roi_objects(img, 'partial', bin_contour, bin_hierarchy, id_objects, obj_hierarchy)"
   ]
  }
 ],
 "metadata": {
  "kernelspec": {
   "display_name": "Python 2",
   "language": "python",
   "name": "python2"
  },
  "language_info": {
   "codemirror_mode": {
    "name": "ipython",
    "version": 2.0
   },
   "file_extension": ".py",
   "mimetype": "text/x-python",
   "name": "python",
   "nbconvert_exporter": "python",
   "pygments_lexer": "ipython2",
   "version": "2.7.6"
  }
 },
 "nbformat": 4,
 "nbformat_minor": 0
}