{
 "cells": [
  {
   "cell_type": "markdown",
   "metadata": {
    "collapsed": true
   },
   "source": [
    "# Watershed Segmentation \n",
    "\n",
    "There is a PlantCV function is based on code contributed by Suxing Liu, Arkansas State University.\n",
    "For more information see [https://github.com/lsx1980/Leaf_count](https://github.com/lsx1980/Leaf_count).\n",
    "This function uses the watershed algorithm to detect boundary of objects.\n",
    "Needs a mask file which specifies area which is object is white, and background is black.\n",
    "Requires cv2 version 3.0+"
   ]
  },
  {
   "cell_type": "code",
   "execution_count": null,
   "metadata": {},
   "outputs": [],
   "source": [
    "from plantcv import plantcv as pcv"
   ]
  },
  {
   "cell_type": "code",
   "execution_count": null,
   "metadata": {},
   "outputs": [],
   "source": [
    "class options:\n",
    "    def __init__(self):\n",
    "        self.image = \"img/tutorial_images/segmentation/arabidopsis.jpg\"\n",
    "        self.debug = \"plot\"\n",
    "        self.writeimg= False \n",
    "        self.outdir = \".\"\n",
    "# Get options\n",
    "args = options()\n",
    "\n",
    "# Set debug to the global parameter \n",
    "pcv.params.debug = args.debug\n",
    "# Read image\n",
    "img, path, filename = pcv.readimage(args.image)"
   ]
  },
  {
   "cell_type": "code",
   "execution_count": null,
   "metadata": {},
   "outputs": [],
   "source": [
    "# Crop the image down to focus on just one plant \n",
    "crop_img = img[525:900,2030:2400]\n",
    "# Print it out to see \n",
    "pcv.plot_image(crop_img)"
   ]
  },
  {
   "cell_type": "code",
   "execution_count": null,
   "metadata": {},
   "outputs": [],
   "source": [
    "# Convert image from RGB color space to LAB and keep only the \n",
    "# green-magenta channel \n",
    "\n",
    "# Inputs:\n",
    "#    img     = image object, RGB color space\n",
    "#    channel = color subchannel ('l' = lightness, 'a' = green-magenta , 'b' = blue-yellow)\n",
    "\n",
    "a = pcv.rgb2gray_lab(crop_img, 'a')"
   ]
  },
  {
   "cell_type": "code",
   "execution_count": null,
   "metadata": {},
   "outputs": [],
   "source": [
    "# Set a binary threshold on the image \n",
    "\n",
    "# Inputs:\n",
    "#    img         = img object, grayscale\n",
    "#    threshold   = threshold value (0-255)\n",
    "#    maxValue    = value to apply above threshold (usually 255 = white)\n",
    "#    object_type = light or dark\n",
    "#       - If object is light then standard thresholding is done\n",
    "#       - If object is dark then inverse thresholding is done\n",
    "\n",
    "img_binary = pcv.threshold.binary(a, 110, 255, 'dark')"
   ]
  },
  {
   "cell_type": "code",
   "execution_count": null,
   "metadata": {},
   "outputs": [],
   "source": [
    "# Find objects\n",
    "\n",
    "# Inputs:\n",
    "#    img  = image that the objects will be overlayed\n",
    "#    mask = what is used for object detection\n",
    "\n",
    "id_objects, obj_hierarchy = pcv.find_objects(crop_img, img_binary)"
   ]
  },
  {
   "cell_type": "code",
   "execution_count": null,
   "metadata": {},
   "outputs": [],
   "source": [
    "# Combine objects \n",
    "\n",
    "# Inputs:\n",
    "#   img       = RGB or grayscale image data for plotting \n",
    "#   contours  = Contour list \n",
    "#   hierarchy = Contour hierarchy array \n",
    "\n",
    "obj, mask = pcv.object_composition(crop_img, id_objects, obj_hierarchy)"
   ]
  },
  {
   "cell_type": "code",
   "execution_count": null,
   "metadata": {},
   "outputs": [],
   "source": [
    "# Appy mask\n",
    "\n",
    "# Inputs:\n",
    "#   rgb_img    = RGB image data \n",
    "#   mask       = Binary mask image data \n",
    "#   mask_color = 'white' or 'black' \n",
    "masked = pcv.apply_mask(rgb_img=crop_img, mask=mask, mask_color=\"black\")"
   ]
  },
  {
   "cell_type": "code",
   "execution_count": null,
   "metadata": {},
   "outputs": [],
   "source": [
    "# Use watershed segmentation \n",
    "\n",
    "# Inputs:\n",
    "#   rgb_img  = RGB image data \n",
    "#   mask     = Binary image, single channel, object in white and background black\n",
    "#   distance = Minimum distance of local maximum, lower values are more sensitive, \n",
    "#              and segments more objects (default: 10)\n",
    "#   filename = If user wants to output analysis images, change filename from False (default) \n",
    "\n",
    "watershed_header, watershed_data, analysis_images = pcv.watershed_segmentation(rgb_img=masked, mask=mask, distance=15)\n",
    "\n",
    "# The function returns the image too. We can save it out. \n",
    "pcv.print_image(analysis_images, \"watershed_segmented_image.png\")"
   ]
  },
  {
   "cell_type": "code",
   "execution_count": null,
   "outputs": [],
   "source": [
    ""
   ]
  }
 ],
 "metadata": {
  "kernelspec": {
   "display_name": "Python 2",
   "language": "python",
   "name": "python2"
  },
  "language_info": {
   "codemirror_mode": {
    "name": "ipython",
    "version": 2
   },
   "file_extension": ".py",
   "mimetype": "text/x-python",
   "name": "python",
   "nbconvert_exporter": "python",
   "pygments_lexer": "ipython2",
   "version": "2.7.6"
  }
 },
 "nbformat": 4,
 "nbformat_minor": 0
}
